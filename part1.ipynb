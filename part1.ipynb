{
 "cells": [
  {
   "cell_type": "code",
   "execution_count": 7,
   "metadata": {},
   "outputs": [],
   "source": [
    "import pymatgen\n",
    "import crystal_toolkit"
   ]
  },
  {
   "cell_type": "markdown",
   "metadata": {},
   "source": [
    "Structure and Molecule object"
   ]
  },
  {
   "cell_type": "markdown",
   "metadata": {},
   "source": [
    "A structue is a periodic crystal\n",
    " - contains a lattice and basis\n",
    "\n",
    "A molecule does not have periodic boundary conditions\n",
    " - no lattice, just collection of atoms in space"
   ]
  },
  {
   "cell_type": "markdown",
   "metadata": {},
   "source": [
    "How to make a strucure object?\n",
    " - can directly code in python\n",
    " - can import a file\n",
    " - from an api (like the materials project)\n",
    "\n",
    " I will probably download a structure from the materials project and then manipulate the surface"
   ]
  },
  {
   "cell_type": "code",
   "execution_count": 22,
   "metadata": {},
   "outputs": [
    {
     "name": "stdout",
     "output_type": "stream",
     "text": [
      "Full Formula (Ca1 Ti1 O3)\n",
      "Reduced Formula: CaTiO3\n",
      "abc   :   3.900000   3.900000   3.900000\n",
      "angles:  90.000000  90.000000  90.000000\n",
      "pbc   :       True       True       True\n",
      "Sites (5)\n",
      "  #  SP      a    b    c\n",
      "---  ----  ---  ---  ---\n",
      "  0  Ca    0    0    0\n",
      "  1  Ti    0.5  0.5  0.5\n",
      "  2  O     0.5  0.5  0\n",
      "  3  O     0    0.5  0.5\n",
      "  4  O     0.5  0    0.5\n"
     ]
    },
    {
     "data": {
      "text/html": [
       "\n",
       "        <iframe\n",
       "            width=\"100%\"\n",
       "            height=\"650\"\n",
       "            src=\"http://127.0.0.1:8884/\"\n",
       "            frameborder=\"0\"\n",
       "            allowfullscreen\n",
       "            \n",
       "        ></iframe>\n",
       "        "
      ],
      "text/plain": [
       "<IPython.lib.display.IFrame at 0x1dd599874d0>"
      ]
     },
     "metadata": {},
     "output_type": "display_data"
    }
   ],
   "source": [
    "from pymatgen.core import Lattice, Structure\n",
    "\n",
    "#Define the lattice cell lengths and angles (units in Angstroms)\n",
    "a, b, c, = 3.9, 3.9, 3.9\n",
    "\n",
    "alpha, beta, gamma, = 90, 90, 90\n",
    "\n",
    "lattice = Lattice.from_parameters(a, b, c, alpha, beta, gamma)\n",
    "\n",
    "# Define the basis (atomic positions and species)\n",
    "\n",
    "species = [\"Ca\", \"Ti\", \"O\", \"O\", \"O\"]\n",
    "coords = [\n",
    "    [0, 0, 0],  #Pb\n",
    "    [0.5, 0.5, 0.5], #Ti\n",
    "    [0.5, 0.5, 0], #O1\n",
    "    [0, 0.5, 0.5], #O2\n",
    "    [0.5, 0, 0.5]   #O3\n",
    "]\n",
    "\n",
    "# Create the structure\n",
    "\n",
    "PTO_structure = Structure(lattice, species, coords)\n",
    "\n",
    "print(PTO_structure)\n",
    "PTO_structure"
   ]
  },
  {
   "cell_type": "code",
   "execution_count": 9,
   "metadata": {},
   "outputs": [
    {
     "name": "stdout",
     "output_type": "stream",
     "text": [
      "Pb1 Ti1 O3\n"
     ]
    }
   ],
   "source": [
    "print(PTO_structure.composition)"
   ]
  },
  {
   "cell_type": "code",
   "execution_count": 10,
   "metadata": {},
   "outputs": [
    {
     "name": "stdout",
     "output_type": "stream",
     "text": [
      "ABC3\n"
     ]
    }
   ],
   "source": [
    "print(PTO_structure.composition.anonymized_formula)"
   ]
  },
  {
   "cell_type": "code",
   "execution_count": 11,
   "metadata": {},
   "outputs": [
    {
     "name": "stdout",
     "output_type": "stream",
     "text": [
      "8.483818073921379 g cm^-3\n"
     ]
    }
   ],
   "source": [
    "print(PTO_structure.density)"
   ]
  },
  {
   "cell_type": "code",
   "execution_count": 12,
   "metadata": {},
   "outputs": [
    {
     "name": "stdout",
     "output_type": "stream",
     "text": [
      "[0. 0. 0.] Pb\n"
     ]
    }
   ],
   "source": [
    "print(PTO_structure[0])"
   ]
  },
  {
   "cell_type": "code",
   "execution_count": 13,
   "metadata": {},
   "outputs": [
    {
     "name": "stdout",
     "output_type": "stream",
     "text": [
      "[1.95 1.95 1.95] Ti\n"
     ]
    }
   ],
   "source": [
    "print(PTO_structure[1])"
   ]
  },
  {
   "cell_type": "code",
   "execution_count": 14,
   "metadata": {},
   "outputs": [
    {
     "name": "stdout",
     "output_type": "stream",
     "text": [
      "Full Formula (Ti1 Pb1 O3)\n",
      "Reduced Formula: TiPbO3\n",
      "abc   :   3.900000   3.900000   3.900000\n",
      "angles:  90.000000  90.000000  90.000000\n",
      "pbc   :       True       True       True\n",
      "Sites (5)\n",
      "  #  SP      a    b    c\n",
      "---  ----  ---  ---  ---\n",
      "  0  Pb    0    0    0\n",
      "  1  Ti    0.5  0.5  0.5\n",
      "  2  O     0.5  0.5  0\n",
      "  3  O     0    0.5  0.5\n",
      "  4  O     0.5  0    0.5\n"
     ]
    }
   ],
   "source": [
    "print(PTO_structure)"
   ]
  },
  {
   "cell_type": "code",
   "execution_count": 15,
   "metadata": {},
   "outputs": [
    {
     "name": "stdout",
     "output_type": "stream",
     "text": [
      "[[0.  0.  0. ]\n",
      " [0.5 0.5 0.5]\n",
      " [0.5 0.5 0. ]\n",
      " [0.  0.5 0.5]\n",
      " [0.5 0.  0.5]]\n"
     ]
    }
   ],
   "source": [
    "print(PTO_structure.frac_coords)"
   ]
  },
  {
   "cell_type": "code",
   "execution_count": 17,
   "metadata": {},
   "outputs": [
    {
     "name": "stdout",
     "output_type": "stream",
     "text": [
      "3.37749907475931\n"
     ]
    }
   ],
   "source": [
    "print(PTO_structure.get_distance(0,1))"
   ]
  },
  {
   "cell_type": "code",
   "execution_count": 20,
   "metadata": {},
   "outputs": [
    {
     "name": "stdout",
     "output_type": "stream",
     "text": [
      "[PeriodicNeighbor: O (3.136e-16, 1.95, 1.95) [0.0, 0.5, 0.5], PeriodicNeighbor: O (1.95, 0.0, 1.95) [0.5, 0.0, 0.5], PeriodicNeighbor: O (1.95, 1.95, 2.388e-16) [0.5, 0.5, 0.0], PeriodicNeighbor: O (1.95, 3.9, 1.95) [0.5, 1.0, 0.5], PeriodicNeighbor: O (3.9, 1.95, 1.95) [1.0, 0.5, 0.5], PeriodicNeighbor: O (1.95, 1.95, 3.9) [0.5, 0.5, 1.0]]\n"
     ]
    }
   ],
   "source": [
    "print(PTO_structure.get_neighbors(PTO_structure[1], 3))"
   ]
  },
  {
   "cell_type": "code",
   "execution_count": 21,
   "metadata": {},
   "outputs": [
    {
     "data": {
      "text/html": [
       "\n",
       "        <iframe\n",
       "            width=\"100%\"\n",
       "            height=\"650\"\n",
       "            src=\"http://127.0.0.1:8884/\"\n",
       "            frameborder=\"0\"\n",
       "            allowfullscreen\n",
       "            \n",
       "        ></iframe>\n",
       "        "
      ],
      "text/plain": [
       "<IPython.lib.display.IFrame at 0x1dd591fb320>"
      ]
     },
     "metadata": {},
     "output_type": "display_data"
    },
    {
     "name": "stderr",
     "output_type": "stream",
     "text": [
      "c:\\Users\\ryana\\AppData\\Local\\Programs\\Python\\Python312\\Lib\\site-packages\\pymatgen\\analysis\\local_env.py:4019: UserWarning:\n",
      "\n",
      "No oxidation states specified on sites! For better results, set the site oxidation states in the structure.\n",
      "\n",
      "c:\\Users\\ryana\\AppData\\Local\\Programs\\Python\\Python312\\Lib\\site-packages\\pymatgen\\analysis\\local_env.py:4021: UserWarning:\n",
      "\n",
      "No oxidation states specified on sites! For better results, set the site oxidation states in the structure.\n",
      "\n",
      "c:\\Users\\ryana\\AppData\\Local\\Programs\\Python\\Python312\\Lib\\site-packages\\pymatgen\\analysis\\local_env.py:3933: UserWarning:\n",
      "\n",
      "CrystalNN: cannot locate an appropriate radius, covalent or atomic radii will be used, this can lead to non-optimal results.\n",
      "\n"
     ]
    }
   ],
   "source": [
    "PTO_structure.copy().make_supercell([2, 3, 1])"
   ]
  },
  {
   "cell_type": "code",
   "execution_count": null,
   "metadata": {},
   "outputs": [],
   "source": []
  }
 ],
 "metadata": {
  "kernelspec": {
   "display_name": "Python 3",
   "language": "python",
   "name": "python3"
  },
  "language_info": {
   "codemirror_mode": {
    "name": "ipython",
    "version": 3
   },
   "file_extension": ".py",
   "mimetype": "text/x-python",
   "name": "python",
   "nbconvert_exporter": "python",
   "pygments_lexer": "ipython3",
   "version": "3.12.5"
  }
 },
 "nbformat": 4,
 "nbformat_minor": 2
}
