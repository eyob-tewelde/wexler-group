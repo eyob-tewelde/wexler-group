{
 "cells": [
  {
   "cell_type": "code",
   "execution_count": 5,
   "metadata": {},
   "outputs": [],
   "source": [
    "from pymatgen.ext.matproj import MPRester\n",
    "import crystal_toolkit"
   ]
  },
  {
   "cell_type": "code",
   "execution_count": 3,
   "metadata": {},
   "outputs": [],
   "source": [
    "mpr = MPRester(\"GVPDJzGk7QCVi80Gnm6QCYrKAlJiTtLf\")"
   ]
  },
  {
   "cell_type": "code",
   "execution_count": 6,
   "metadata": {},
   "outputs": [
    {
     "data": {
      "application/vnd.jupyter.widget-view+json": {
       "model_id": "0898a275c88c4a1690aa1d80c4507f7a",
       "version_major": 2,
       "version_minor": 0
      },
      "text/plain": [
       "Retrieving MaterialsDoc documents:   0%|          | 0/1 [00:00<?, ?it/s]"
      ]
     },
     "metadata": {},
     "output_type": "display_data"
    },
    {
     "name": "stderr",
     "output_type": "stream",
     "text": [
      "c:\\Users\\ryana\\AppData\\Local\\Programs\\Python\\Python312\\Lib\\site-packages\\crystal_toolkit\\core\\jupyter.py:57: UserWarning:\n",
      "\n",
      "Port {port} not available, using {free_port} instead.\n",
      "\n"
     ]
    },
    {
     "data": {
      "text/html": [
       "\n",
       "        <iframe\n",
       "            width=\"100%\"\n",
       "            height=\"650\"\n",
       "            src=\"http://127.0.0.1:54976/\"\n",
       "            frameborder=\"0\"\n",
       "            allowfullscreen\n",
       "            \n",
       "        ></iframe>\n",
       "        "
      ],
      "text/plain": [
       "<IPython.lib.display.IFrame at 0x1e674217500>"
      ]
     },
     "metadata": {},
     "output_type": "display_data"
    }
   ],
   "source": [
    "mp_id = \"mp-4019\"\n",
    "CTO_structure = mpr.get_structure_by_material_id(mp_id)\n",
    "CTO_structure"
   ]
  },
  {
   "cell_type": "code",
   "execution_count": 7,
   "metadata": {},
   "outputs": [
    {
     "name": "stdout",
     "output_type": "stream",
     "text": [
      "Full Formula (Ca4 Ti4 O12)\n",
      "Reduced Formula: CaTiO3\n",
      "abc   :   5.372049   5.462796   7.636360\n",
      "angles:  90.000000  90.000000  90.000000\n",
      "pbc   :       True       True       True\n",
      "Sites (20)\n",
      "  #  SP           a         b          c    magmom\n",
      "---  ----  --------  --------  ---------  --------\n",
      "  0  Ca    0.509067  0.542398   0.75             0\n",
      "  1  Ca    0.490933  0.457602   0.25             0\n",
      "  2  Ca    0.990933  0.042398   0.75             0\n",
      "  3  Ca    0.009067  0.957602   0.25             0\n",
      "  4  Ti    0         0.5        0.5             -0\n",
      "  5  Ti    0         0.5       -0               -0\n",
      "  6  Ti    0.5       0          0.5             -0\n",
      "  7  Ti    0.5       0         -0               -0\n",
      "  8  O     0.076781  0.481328   0.75             0\n",
      "  9  O     0.923219  0.518672   0.25             0\n",
      " 10  O     0.423219  0.981328   0.75             0\n",
      " 11  O     0.576781  0.018672   0.25             0\n",
      " 12  O     0.790294  0.789614   0.959841        -0\n",
      " 13  O     0.209706  0.210386   0.459841        -0\n",
      " 14  O     0.209706  0.210386   0.040159        -0\n",
      " 15  O     0.790294  0.789614   0.540159        -0\n",
      " 16  O     0.709706  0.289614   0.959841        -0\n",
      " 17  O     0.290294  0.710386   0.459841        -0\n",
      " 18  O     0.290294  0.710386   0.040159        -0\n",
      " 19  O     0.709706  0.289614   0.540159        -0\n"
     ]
    }
   ],
   "source": [
    "print(CTO_structure)"
   ]
  },
  {
   "cell_type": "code",
   "execution_count": 8,
   "metadata": {},
   "outputs": [
    {
     "name": "stdout",
     "output_type": "stream",
     "text": [
      "Ca4 Ti4 O12\n"
     ]
    }
   ],
   "source": [
    "print(CTO_structure.composition)"
   ]
  },
  {
   "cell_type": "code",
   "execution_count": 9,
   "metadata": {},
   "outputs": [
    {
     "name": "stdout",
     "output_type": "stream",
     "text": [
      "[[ 0.50906691  0.54239755  0.75      ]\n",
      " [ 0.49093309  0.45760245  0.25      ]\n",
      " [ 0.99093309  0.04239755  0.75      ]\n",
      " [ 0.00906691  0.95760245  0.25      ]\n",
      " [ 0.          0.5         0.5       ]\n",
      " [ 0.          0.5        -0.        ]\n",
      " [ 0.5         0.          0.5       ]\n",
      " [ 0.5         0.         -0.        ]\n",
      " [ 0.07678111  0.48132762  0.75      ]\n",
      " [ 0.92321889  0.51867238  0.25      ]\n",
      " [ 0.42321889  0.98132762  0.75      ]\n",
      " [ 0.57678111  0.01867238  0.25      ]\n",
      " [ 0.79029372  0.78961378  0.95984128]\n",
      " [ 0.20970628  0.21038622  0.45984128]\n",
      " [ 0.20970628  0.21038622  0.04015872]\n",
      " [ 0.79029372  0.78961378  0.54015872]\n",
      " [ 0.70970628  0.28961378  0.95984128]\n",
      " [ 0.29029372  0.71038622  0.45984128]\n",
      " [ 0.29029372  0.71038622  0.04015872]\n",
      " [ 0.70970628  0.28961378  0.54015872]]\n"
     ]
    }
   ],
   "source": [
    "print(CTO_structure.frac_coords)"
   ]
  },
  {
   "cell_type": "code",
   "execution_count": 11,
   "metadata": {},
   "outputs": [
    {
     "name": "stderr",
     "output_type": "stream",
     "text": [
      "c:\\Users\\ryana\\AppData\\Local\\Programs\\Python\\Python312\\Lib\\site-packages\\crystal_toolkit\\core\\jupyter.py:57: UserWarning:\n",
      "\n",
      "Port {port} not available, using {free_port} instead.\n",
      "\n"
     ]
    },
    {
     "data": {
      "text/html": [
       "\n",
       "        <iframe\n",
       "            width=\"100%\"\n",
       "            height=\"650\"\n",
       "            src=\"http://127.0.0.1:56389/\"\n",
       "            frameborder=\"0\"\n",
       "            allowfullscreen\n",
       "            \n",
       "        ></iframe>\n",
       "        "
      ],
      "text/plain": [
       "<IPython.lib.display.IFrame at 0x1e67443f500>"
      ]
     },
     "metadata": {},
     "output_type": "display_data"
    },
    {
     "name": "stderr",
     "output_type": "stream",
     "text": [
      "c:\\Users\\ryana\\AppData\\Local\\Programs\\Python\\Python312\\Lib\\site-packages\\pymatgen\\analysis\\local_env.py:4019: UserWarning:\n",
      "\n",
      "No oxidation states specified on sites! For better results, set the site oxidation states in the structure.\n",
      "\n",
      "c:\\Users\\ryana\\AppData\\Local\\Programs\\Python\\Python312\\Lib\\site-packages\\pymatgen\\analysis\\local_env.py:4021: UserWarning:\n",
      "\n",
      "No oxidation states specified on sites! For better results, set the site oxidation states in the structure.\n",
      "\n",
      "c:\\Users\\ryana\\AppData\\Local\\Programs\\Python\\Python312\\Lib\\site-packages\\pymatgen\\analysis\\local_env.py:3933: UserWarning:\n",
      "\n",
      "CrystalNN: cannot locate an appropriate radius, covalent or atomic radii will be used, this can lead to non-optimal results.\n",
      "\n",
      "c:\\Users\\ryana\\AppData\\Local\\Programs\\Python\\Python312\\Lib\\site-packages\\pymatgen\\analysis\\local_env.py:4019: UserWarning:\n",
      "\n",
      "No oxidation states specified on sites! For better results, set the site oxidation states in the structure.\n",
      "\n",
      "c:\\Users\\ryana\\AppData\\Local\\Programs\\Python\\Python312\\Lib\\site-packages\\pymatgen\\analysis\\local_env.py:4021: UserWarning:\n",
      "\n",
      "No oxidation states specified on sites! For better results, set the site oxidation states in the structure.\n",
      "\n",
      "c:\\Users\\ryana\\AppData\\Local\\Programs\\Python\\Python312\\Lib\\site-packages\\pymatgen\\analysis\\local_env.py:3933: UserWarning:\n",
      "\n",
      "CrystalNN: cannot locate an appropriate radius, covalent or atomic radii will be used, this can lead to non-optimal results.\n",
      "\n"
     ]
    }
   ],
   "source": [
    "from pymatgen.transformations.advanced_transformations import SlabTransformation\n",
    "import numpy as np\n",
    "\n",
    "miller_index = [0, 0, 1]\n",
    "slab_size = np.linspace(1, 10, 10)\n",
    "vacuum_size = np.linspace(1, 15, 10)\n",
    "\n",
    "min_slab_size = 10 # Thickness of the slab\n",
    "min_vacuum_size = 15 # Thickness of the vacuum layer\n",
    "\n",
    "slab_transformation = SlabTransformation(\n",
    "    miller_index=miller_index,\n",
    "    min_slab_size=min_slab_size,\n",
    "    min_vacuum_size=min_vacuum_size,\n",
    "    lll_reduce=True, # Makes the slab more orthogonal\n",
    "    center_slab=True, # Centers the slab w/ vacuum on top and bottom\n",
    "    in_unit_planes=True # Slab thickness specified as number of planes, not Angstroms\n",
    ")\n",
    "\n",
    "cto_001 = slab_transformation.apply_transformation(CTO_structure)\n",
    "cto_001\n"
   ]
  },
  {
   "cell_type": "code",
   "execution_count": null,
   "metadata": {},
   "outputs": [],
   "source": []
  }
 ],
 "metadata": {
  "kernelspec": {
   "display_name": "Python 3",
   "language": "python",
   "name": "python3"
  },
  "language_info": {
   "codemirror_mode": {
    "name": "ipython",
    "version": 3
   },
   "file_extension": ".py",
   "mimetype": "text/x-python",
   "name": "python",
   "nbconvert_exporter": "python",
   "pygments_lexer": "ipython3",
   "version": "3.12.5"
  }
 },
 "nbformat": 4,
 "nbformat_minor": 2
}
