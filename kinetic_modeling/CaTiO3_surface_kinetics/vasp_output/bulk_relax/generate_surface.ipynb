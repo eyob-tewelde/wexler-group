{
 "cells": [
  {
   "cell_type": "code",
   "execution_count": 2,
   "metadata": {},
   "outputs": [],
   "source": [
    "from pymatgen.ext.matproj import MPRester\n",
    "from pymatgen.core import Structure\n",
    "from pymatgen.io.vasp.outputs import Oszicar, Outcar, Vasprun\n",
    "from pymatgen.core.surface import SlabGenerator\n",
    "import slab_functions as sf\n",
    "import crystal_toolkit"
   ]
  },
  {
   "cell_type": "code",
   "execution_count": 14,
   "metadata": {},
   "outputs": [
    {
     "name": "stdout",
     "output_type": "stream",
     "text": [
      "Full Formula (Ca4 Ti4 O12)\n",
      "Reduced Formula: CaTiO3\n",
      "abc   :   5.409341   5.516644   7.700353\n",
      "angles:  90.000000  90.000000  90.000000\n",
      "pbc   :       True       True       True\n",
      "Sites (20)\n",
      "  #  SP           a         b          c\n",
      "---  ----  --------  --------  ---------\n",
      "  0  Ca    0.509603  0.544686   0.75\n",
      "  1  Ca    0.490397  0.455314   0.25\n",
      "  2  Ca    0.990397  0.044686   0.75\n",
      "  3  Ca    0.009603  0.955314   0.25\n",
      "  4  Ti    0         0.5        0.5\n",
      "  5  Ti    0         0.5       -0\n",
      "  6  Ti    0.5       0          0.5\n",
      "  7  Ti    0.5       0         -0\n",
      "  8  O     0.079641  0.479666   0.75\n",
      "  9  O     0.920359  0.520334   0.25\n",
      " 10  O     0.420359  0.979666   0.75\n",
      " 11  O     0.579641  0.020334   0.25\n",
      " 12  O     0.791542  0.790745   0.958165\n",
      " 13  O     0.208458  0.209255   0.458165\n",
      " 14  O     0.208458  0.209255   0.041835\n",
      " 15  O     0.791542  0.790745   0.541835\n",
      " 16  O     0.708458  0.290745   0.958165\n",
      " 17  O     0.291542  0.709255   0.458165\n",
      " 18  O     0.291542  0.709255   0.041835\n",
      " 19  O     0.708458  0.290745   0.541835\n"
     ]
    }
   ],
   "source": [
    "#Import the relaxed catio3 structure\n",
    "\n",
    "contcar = Structure.from_file(\"CONTCAR\")\n",
    "print(contcar)"
   ]
  },
  {
   "cell_type": "code",
   "execution_count": 4,
   "metadata": {},
   "outputs": [
    {
     "data": {
      "application/vnd.jupyter.widget-view+json": {
       "model_id": "b5f9359d32664ad5a889c5a7dd3378c2",
       "version_major": 2,
       "version_minor": 0
      },
      "text/plain": [
       "Retrieving MaterialsDoc documents:   0%|          | 0/1 [00:00<?, ?it/s]"
      ]
     },
     "metadata": {},
     "output_type": "display_data"
    },
    {
     "name": "stdout",
     "output_type": "stream",
     "text": [
      "Full Formula (Ca4 Ti4 O12)\n",
      "Reduced Formula: CaTiO3\n",
      "abc   :   5.372049   5.462796   7.636360\n",
      "angles:  90.000000  90.000000  90.000000\n",
      "pbc   :       True       True       True\n",
      "Sites (20)\n",
      "  #  SP           a         b          c    magmom\n",
      "---  ----  --------  --------  ---------  --------\n",
      "  0  Ca2+  0.509067  0.542398   0.75             0\n",
      "  1  Ca2+  0.490933  0.457602   0.25             0\n",
      "  2  Ca2+  0.990933  0.042398   0.75             0\n",
      "  3  Ca2+  0.009067  0.957602   0.25             0\n",
      "  4  Ti4+  0         0.5        0.5             -0\n",
      "  5  Ti4+  0         0.5       -0               -0\n",
      "  6  Ti4+  0.5       0          0.5             -0\n",
      "  7  Ti4+  0.5       0         -0               -0\n",
      "  8  O2-   0.076781  0.481328   0.75             0\n",
      "  9  O2-   0.923219  0.518672   0.25             0\n",
      " 10  O2-   0.423219  0.981328   0.75             0\n",
      " 11  O2-   0.576781  0.018672   0.25             0\n",
      " 12  O2-   0.790294  0.789614   0.959841        -0\n",
      " 13  O2-   0.209706  0.210386   0.459841        -0\n",
      " 14  O2-   0.209706  0.210386   0.040159        -0\n",
      " 15  O2-   0.790294  0.789614   0.540159        -0\n",
      " 16  O2-   0.709706  0.289614   0.959841        -0\n",
      " 17  O2-   0.290294  0.710386   0.459841        -0\n",
      " 18  O2-   0.290294  0.710386   0.040159        -0\n",
      " 19  O2-   0.709706  0.289614   0.540159        -0\n"
     ]
    }
   ],
   "source": [
    "# Import the catio3 structure from Materials Project (MP)\n",
    "\n",
    "mpr = MPRester(\"GVPDJzGk7QCVi80Gnm6QCYrKAlJiTtLf\")\n",
    "mp_id = \"mp-4019\"   # Material id for orthorombic CaTiO3\n",
    "cto_mp_struct = mpr.get_structure_by_material_id(mp_id)\n",
    "cto_mp_struct.add_oxidation_state_by_element({\"Ca\":2, \"Ti\":4, \"O\":-2})\n",
    "print(cto_mp_struct)"
   ]
  },
  {
   "cell_type": "code",
   "execution_count": 15,
   "metadata": {},
   "outputs": [
    {
     "name": "stdout",
     "output_type": "stream",
     "text": [
      "['0.04', '0.05', '0.06']\n"
     ]
    }
   ],
   "source": [
    "# Difference in lattice parameters between original structure and structure after relaxtion\n",
    "diff_in_lattice_param = [contcar.lattice.a - cto_mp_struct.lattice.a, contcar.lattice.b - cto_mp_struct.lattice.b, contcar.lattice.c - cto_mp_struct.lattice.c]\n",
    "rounded_diff_in_lattice = [ '%.2f' % elem for elem in diff_in_lattice_param]\n",
    "print(rounded_diff_in_lattice)"
   ]
  },
  {
   "cell_type": "code",
   "execution_count": 5,
   "metadata": {},
   "outputs": [
    {
     "data": {
      "text/plain": [
       "True"
      ]
     },
     "execution_count": 5,
     "metadata": {},
     "output_type": "execute_result"
    }
   ],
   "source": [
    "contcar.matches(cto_mp_struct)"
   ]
  },
  {
   "cell_type": "code",
   "execution_count": 6,
   "metadata": {},
   "outputs": [
    {
     "name": "stdout",
     "output_type": "stream",
     "text": [
      "4.02925941391082 g cm^-3\n",
      "3.929494049525509 g cm^-3\n"
     ]
    }
   ],
   "source": [
    "print(cto_mp_struct.density)\n",
    "print(contcar.density)"
   ]
  },
  {
   "cell_type": "code",
   "execution_count": 7,
   "metadata": {},
   "outputs": [
    {
     "name": "stdout",
     "output_type": "stream",
     "text": [
      "4\n",
      "False\n",
      "False\n",
      "False\n"
     ]
    }
   ],
   "source": [
    "# 001 Miller index\n",
    "slabgen_001 = SlabGenerator(contcar, (0,0,1), 10, 10) # Structure, Miller index, minimum slab size, minimum vacuum size\n",
    "slabs_001 = slabgen_001.get_slabs(symmetrize=True) # Generate surfaces with a Miller index of (0, 0, 1)\n",
    "print(len(slabs_001))\n",
    "\n",
    "print(sf.match_slabs(slabs_001))\n",
    "print(sf.polar_slabs(slabs_001))\n",
    "print(sf.symmetric_slabs(slabs_001))"
   ]
  },
  {
   "cell_type": "code",
   "execution_count": 8,
   "metadata": {},
   "outputs": [
    {
     "name": "stdout",
     "output_type": "stream",
     "text": [
      "7\n",
      "False\n",
      "False\n",
      "False\n"
     ]
    }
   ],
   "source": [
    "# 010 Miller index\n",
    "slabgen_010 = SlabGenerator(contcar, (0,1,0), 10, 10) # Structure, Miller index, minimum slab size, minimum vacuum size\n",
    "slabs_010 = slabgen_010.get_slabs(symmetrize=True) # Generate surfaces with a Miller index of (0, 1, 0)\n",
    "print(len(slabs_010))\n",
    "\n",
    "print(sf.match_slabs(slabs_010))\n",
    "print(sf.polar_slabs(slabs_010))\n",
    "print(sf.symmetric_slabs(slabs_010))"
   ]
  },
  {
   "cell_type": "code",
   "execution_count": 9,
   "metadata": {},
   "outputs": [
    {
     "name": "stdout",
     "output_type": "stream",
     "text": [
      "5\n",
      "False\n",
      "False\n",
      "False\n"
     ]
    }
   ],
   "source": [
    "# 100 Miller index\n",
    "slabgen_100 = SlabGenerator(contcar, (1,0,0), 10, 10) # Structure, Miller index, minimum slab size, minimum vacuum size\n",
    "slabs_100 = slabgen_100.get_slabs(symmetrize=True) # Generate surfaces with a Miller index of (1, 0, 0)\n",
    "print(len(slabs_100))\n",
    "\n",
    "print(sf.match_slabs(slabs_100))\n",
    "print(sf.polar_slabs(slabs_100))\n",
    "print(sf.symmetric_slabs(slabs_100))"
   ]
  },
  {
   "cell_type": "code",
   "execution_count": 10,
   "metadata": {},
   "outputs": [
    {
     "name": "stdout",
     "output_type": "stream",
     "text": [
      "6\n",
      "False\n",
      "False\n",
      "False\n"
     ]
    }
   ],
   "source": [
    "# 110 Miller Index\n",
    "slabgen_110 = SlabGenerator(contcar, (1,1,0), 10, 10) # Structure, Miller index, minimum slab size, minimum vacuum size\n",
    "slabs_110 = slabgen_110.get_slabs(symmetrize=True) # Generate surfaces with a Miller index of (1, 1, 0)\n",
    "print(len(slabs_110))\n",
    "\n",
    "print(sf.match_slabs(slabs_110))\n",
    "print(sf.polar_slabs(slabs_110))\n",
    "print(sf.symmetric_slabs(slabs_110))"
   ]
  },
  {
   "cell_type": "code",
   "execution_count": 11,
   "metadata": {},
   "outputs": [
    {
     "name": "stdout",
     "output_type": "stream",
     "text": [
      "8\n",
      "[(2, 3), (3, 2)]\n",
      "False\n",
      "False\n"
     ]
    }
   ],
   "source": [
    "# 101 Miller Index\n",
    "slabgen_101 = SlabGenerator(contcar, (1,0,1), 10, 10) # Structure, Miller index, minimum slab size, minimum vacuum size\n",
    "slabs_101 = slabgen_101.get_slabs(symmetrize=True) # Generate surfaces with a Miller index of (1, 0, 1)\n",
    "print(len(slabs_101))\n",
    "\n",
    "print(sf.match_slabs(slabs_101)) # slabs_101[2] and slabs_101[3] match\n",
    "print(sf.polar_slabs(slabs_101))\n",
    "print(sf.symmetric_slabs(slabs_101))"
   ]
  },
  {
   "cell_type": "code",
   "execution_count": 12,
   "metadata": {},
   "outputs": [
    {
     "name": "stdout",
     "output_type": "stream",
     "text": [
      "6\n",
      "False\n",
      "False\n",
      "False\n"
     ]
    }
   ],
   "source": [
    "# 011 Miller Index\n",
    "slabgen_011 = SlabGenerator(contcar, (0,1,1), 10, 10) # Structure, Miller index, minimum slab size, minimum vacuum size\n",
    "slabs_011 = slabgen_011.get_slabs(symmetrize=True) # Generate surfaces with a Miller index of (0, 1, 1)\n",
    "print(len(slabs_011))\n",
    "\n",
    "print(sf.match_slabs(slabs_011))\n",
    "print(sf.polar_slabs(slabs_011))\n",
    "print(sf.symmetric_slabs(slabs_011))"
   ]
  },
  {
   "cell_type": "code",
   "execution_count": 13,
   "metadata": {},
   "outputs": [
    {
     "name": "stdout",
     "output_type": "stream",
     "text": [
      "12\n",
      "[(0, 1), (1, 0), (4, 5), (5, 4), (6, 7), (7, 6), (10, 11), (11, 10)]\n",
      "False\n",
      "False\n"
     ]
    }
   ],
   "source": [
    "# 111 Miller Index\n",
    "slabgen_111 = SlabGenerator(contcar, (1,1,1), 10, 10) # Structure, Miller index, minimum slab size, minimum vacuum size\n",
    "slabs_111 = slabgen_111.get_slabs(symmetrize=True) # Generate surfaces with a Miller index of (1, 1, 1)\n",
    "print(len(slabs_111))\n",
    "\n",
    "print(sf.match_slabs(slabs_111)) # slabs_111[0] and slabs_111[1] match, slabs_111[4] and slabs_111[5] match, slabs_111[6] and slabs_111[7] match, slabs_111[10] and slabs_111[11] match\n",
    "print(sf.polar_slabs(slabs_111))\n",
    "print(sf.symmetric_slabs(slabs_111))"
   ]
  },
  {
   "cell_type": "markdown",
   "metadata": {},
   "source": [
    "48 slabs generated in total\n",
    "\n",
    "0 polar slabs generated\n",
    "\n",
    "0 non-symmetric slabs\n",
    "\n",
    "2/7 surfaces generated by the 101 Miller index are \"matching\"\n",
    "\n",
    "8/12 surfaces generated by the 111 Miller index are \"matching\"\n",
    "\n",
    "43 non-matching slabs generated in total"
   ]
  }
 ],
 "metadata": {
  "kernelspec": {
   "display_name": "Python 3",
   "language": "python",
   "name": "python3"
  },
  "language_info": {
   "codemirror_mode": {
    "name": "ipython",
    "version": 3
   },
   "file_extension": ".py",
   "mimetype": "text/x-python",
   "name": "python",
   "nbconvert_exporter": "python",
   "pygments_lexer": "ipython3",
   "version": "3.12.5"
  }
 },
 "nbformat": 4,
 "nbformat_minor": 2
}
