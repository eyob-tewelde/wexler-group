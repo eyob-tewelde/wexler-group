{
 "cells": [
  {
   "cell_type": "code",
   "execution_count": 2,
   "metadata": {},
   "outputs": [],
   "source": [
    "from pymatgen.ext.matproj import MPRester\n",
    "from pymatgen.core import Structure\n",
    "from pymatgen.io.vasp.outputs import Oszicar, Outcar, Vasprun\n",
    "from pymatgen.core.surface import SlabGenerator\n",
    "from pymatgen.analysis.surface_analysis import get_slab_regions\n",
    "import slab_functions as sf\n",
    "import numpy as np\n",
    "import crystal_toolkit"
   ]
  },
  {
   "cell_type": "code",
   "execution_count": 3,
   "metadata": {},
   "outputs": [
    {
     "name": "stdout",
     "output_type": "stream",
     "text": [
      "Full Formula (Ca4 Ti4 O12)\n",
      "Reduced Formula: CaTiO3\n",
      "abc   :   5.409826   5.516706   7.700753\n",
      "angles:  90.000000  90.000000  90.000000\n",
      "pbc   :       True       True       True\n",
      "Sites (20)\n",
      "  #  SP            a         b         c\n",
      "---  ----  ---------  --------  --------\n",
      "  0  Ca     0.509596  0.544671  0.75\n",
      "  1  Ca     0.490404  0.455329  0.25\n",
      "  2  Ca     0.990404  0.044671  0.75\n",
      "  3  Ca     0.009596  0.955329  0.25\n",
      "  4  Ti    -0         0.5       0.5\n",
      "  5  Ti     0         0.5       0\n",
      "  6  Ti     0.5       0         0.5\n",
      "  7  Ti     0.5       0         0\n",
      "  8  O      0.079636  0.479698  0.75\n",
      "  9  O      0.920364  0.520302  0.25\n",
      " 10  O      0.420364  0.979698  0.75\n",
      " 11  O      0.579636  0.020302  0.25\n",
      " 12  O      0.791502  0.790711  0.958162\n",
      " 13  O      0.208498  0.209289  0.458162\n",
      " 14  O      0.208498  0.209289  0.041838\n",
      " 15  O      0.791502  0.790711  0.541838\n",
      " 16  O      0.708498  0.290711  0.958162\n",
      " 17  O      0.291502  0.709289  0.458162\n",
      " 18  O      0.291502  0.709289  0.041838\n",
      " 19  O      0.708498  0.290711  0.541838\n"
     ]
    },
    {
     "name": "stderr",
     "output_type": "stream",
     "text": [
      "/Users/eyob/Library/Python/3.9/lib/python/site-packages/pymatgen/core/structure.py:3083: EncodingWarning: We strongly encourage explicit `encoding`, and we would use UTF-8 by default as per PEP 686\n",
      "  with zopen(filename, mode=\"rt\", errors=\"replace\") as file:\n"
     ]
    },
    {
     "data": {
      "text/plain": [
       "229.82451656102154"
      ]
     },
     "execution_count": 3,
     "metadata": {},
     "output_type": "execute_result"
    }
   ],
   "source": [
    "#Import the relaxed catio3 structure\n",
    "\n",
    "contcar = Structure.from_file(\"CONTCAR\")\n",
    "print(contcar)\n",
    "contcar.volume"
   ]
  },
  {
   "cell_type": "markdown",
   "metadata": {},
   "source": [
    "# System characteristics\n",
    "\n",
    "Number of atoms in bulk system: 20\n",
    "- 4 Ca\n",
    "- 4 Ti\n",
    "- 12 O\n",
    "\n",
    "Energy of the relaxed bulk system: -160.02 eV\n",
    "\n",
    "Energy of the relaxed bulk system/atom: -8.001 eV\n",
    "\n",
    "Lattice parameters: a < b < c\n",
    "\n",
    "Cell volume: 229.82 A ^ 3"
   ]
  },
  {
   "cell_type": "code",
   "execution_count": 4,
   "metadata": {},
   "outputs": [
    {
     "name": "stdout",
     "output_type": "stream",
     "text": [
      "Full Formula (Ca4 Ti4 O12)\n",
      "Reduced Formula: CaTiO3\n",
      "abc   :   5.372049   5.462796   7.636360\n",
      "angles:  90.000000  90.000000  90.000000\n",
      "pbc   :       True       True       True\n",
      "Sites (20)\n",
      "  #  SP           a         b          c    magmom\n",
      "---  ----  --------  --------  ---------  --------\n",
      "  0  Ca2+  0.509067  0.542398   0.75             0\n",
      "  1  Ca2+  0.490933  0.457602   0.25             0\n",
      "  2  Ca2+  0.990933  0.042398   0.75             0\n",
      "  3  Ca2+  0.009067  0.957602   0.25             0\n",
      "  4  Ti4+  0         0.5        0.5             -0\n",
      "  5  Ti4+  0         0.5       -0               -0\n",
      "  6  Ti4+  0.5       0          0.5             -0\n",
      "  7  Ti4+  0.5       0         -0               -0\n",
      "  8  O2-   0.076781  0.481328   0.75             0\n",
      "  9  O2-   0.923219  0.518672   0.25             0\n",
      " 10  O2-   0.423219  0.981328   0.75             0\n",
      " 11  O2-   0.576781  0.018672   0.25             0\n",
      " 12  O2-   0.790294  0.789614   0.959841        -0\n",
      " 13  O2-   0.209706  0.210386   0.459841        -0\n",
      " 14  O2-   0.209706  0.210386   0.040159        -0\n",
      " 15  O2-   0.790294  0.789614   0.540159        -0\n",
      " 16  O2-   0.709706  0.289614   0.959841        -0\n",
      " 17  O2-   0.290294  0.710386   0.459841        -0\n",
      " 18  O2-   0.290294  0.710386   0.040159        -0\n",
      " 19  O2-   0.709706  0.289614   0.540159        -0\n"
     ]
    }
   ],
   "source": [
    "# Import the catio3 structure from Materials Project (MP)\n",
    "\n",
    "mpr = MPRester(\"GVPDJzGk7QCVi80Gnm6QCYrKAlJiTtLf\")\n",
    "mp_id = \"mp-4019\"   # Material id for orthorombic CaTiO3\n",
    "cto_mp_struct = mpr.get_structure_by_material_id(mp_id)\n",
    "cto_mp_struct.add_oxidation_state_by_element({\"Ca\":2, \"Ti\":4, \"O\":-2})\n",
    "print(cto_mp_struct)"
   ]
  },
  {
   "cell_type": "code",
   "execution_count": 5,
   "metadata": {},
   "outputs": [
    {
     "name": "stdout",
     "output_type": "stream",
     "text": [
      "Percent error in a: 0.70 %\n",
      "Percent error in b: 0.99 %\n",
      "Percent error in c: 0.84 %\n",
      "Percent error in alpha = beta = gamma: 0 %\n"
     ]
    }
   ],
   "source": [
    "# Difference in lattice parameters between original structure and structure after relaxtion\n",
    "diff_in_lattice_param = np.array([contcar.lattice.a - cto_mp_struct.lattice.a, contcar.lattice.b - cto_mp_struct.lattice.b, contcar.lattice.c - cto_mp_struct.lattice.c])\n",
    "mp_lattice_param  = np.array([cto_mp_struct.lattice.a, cto_mp_struct.lattice.b, cto_mp_struct.lattice.c])\n",
    "percent_error = (diff_in_lattice_param / mp_lattice_param) * 100\n",
    "print(f\"Percent error in a: {percent_error[0]:.2}0 %\")\n",
    "print(f\"Percent error in b: {percent_error[1]:.2} %\")\n",
    "print(f\"Percent error in c: {percent_error[2]:.2} %\")\n",
    "print(\"Percent error in alpha = beta = gamma: 0 %\")"
   ]
  },
  {
   "cell_type": "code",
   "execution_count": 6,
   "metadata": {},
   "outputs": [
    {
     "data": {
      "text/plain": [
       "True"
      ]
     },
     "execution_count": 6,
     "metadata": {},
     "output_type": "execute_result"
    }
   ],
   "source": [
    "contcar.matches(cto_mp_struct)"
   ]
  },
  {
   "cell_type": "code",
   "execution_count": 7,
   "metadata": {},
   "outputs": [
    {
     "name": "stderr",
     "output_type": "stream",
     "text": [
      "/Users/eyob/Library/Python/3.9/lib/python/site-packages/spglib/spglib.py:115: DeprecationWarning: dict interface (SpglibDataset['wyckoffs']) is deprecated.Use attribute interface ({self.__class__.__name__}.{key}) instead\n",
      "  warnings.warn(\n",
      "/Users/eyob/Library/Python/3.9/lib/python/site-packages/spglib/spglib.py:115: DeprecationWarning: dict interface (SpglibDataset['equivalent_atoms']) is deprecated.Use attribute interface ({self.__class__.__name__}.{key}) instead\n",
      "  warnings.warn(\n"
     ]
    },
    {
     "name": "stdout",
     "output_type": "stream",
     "text": [
      "4\n",
      "False\n",
      "False\n",
      "False\n"
     ]
    }
   ],
   "source": [
    "# 001 Miller index\n",
    "slabgen_001 = SlabGenerator(contcar, (0,0,1), 10, 10) # Structure, Miller index, minimum slab size, minimum vacuum size\n",
    "slabs_001 = slabgen_001.get_slabs(symmetrize=True) # Generate surfaces with a Miller index of (0, 0, 1)\n",
    "print(len(slabs_001))\n",
    "\n",
    "print(sf.match_slabs(slabs_001))\n",
    "print(sf.polar_slabs(slabs_001))\n",
    "print(sf.symmetric_slabs(slabs_001))"
   ]
  },
  {
   "cell_type": "code",
   "execution_count": 8,
   "metadata": {},
   "outputs": [
    {
     "name": "stdout",
     "output_type": "stream",
     "text": [
      "7\n",
      "False\n",
      "False\n",
      "False\n"
     ]
    }
   ],
   "source": [
    "# 010 Miller index\n",
    "slabgen_010 = SlabGenerator(contcar, (0,1,0), 10, 10) # Structure, Miller index, minimum slab size, minimum vacuum size\n",
    "slabs_010 = slabgen_010.get_slabs(symmetrize=True) # Generate surfaces with a Miller index of (0, 1, 0)\n",
    "print(len(slabs_010))\n",
    "\n",
    "print(sf.match_slabs(slabs_010))\n",
    "print(sf.polar_slabs(slabs_010))\n",
    "print(sf.symmetric_slabs(slabs_010))"
   ]
  },
  {
   "cell_type": "code",
   "execution_count": 9,
   "metadata": {},
   "outputs": [
    {
     "name": "stdout",
     "output_type": "stream",
     "text": [
      "5\n",
      "False\n",
      "False\n",
      "False\n"
     ]
    }
   ],
   "source": [
    "# 100 Miller index\n",
    "slabgen_100 = SlabGenerator(contcar, (1,0,0), 10, 10) # Structure, Miller index, minimum slab size, minimum vacuum size\n",
    "slabs_100 = slabgen_100.get_slabs(symmetrize=True) # Generate surfaces with a Miller index of (1, 0, 0)\n",
    "print(len(slabs_100))\n",
    "\n",
    "print(sf.match_slabs(slabs_100))\n",
    "print(sf.polar_slabs(slabs_100))\n",
    "print(sf.symmetric_slabs(slabs_100))"
   ]
  },
  {
   "cell_type": "code",
   "execution_count": 10,
   "metadata": {},
   "outputs": [
    {
     "name": "stdout",
     "output_type": "stream",
     "text": [
      "6\n",
      "False\n",
      "False\n",
      "False\n"
     ]
    }
   ],
   "source": [
    "# 110 Miller Index\n",
    "slabgen_110 = SlabGenerator(contcar, (1,1,0), 10, 10) # Structure, Miller index, minimum slab size, minimum vacuum size\n",
    "slabs_110 = slabgen_110.get_slabs(symmetrize=True) # Generate surfaces with a Miller index of (1, 1, 0)\n",
    "print(len(slabs_110))\n",
    "\n",
    "print(sf.match_slabs(slabs_110))\n",
    "print(sf.polar_slabs(slabs_110))\n",
    "print(sf.symmetric_slabs(slabs_110))"
   ]
  },
  {
   "cell_type": "code",
   "execution_count": 11,
   "metadata": {},
   "outputs": [
    {
     "name": "stdout",
     "output_type": "stream",
     "text": [
      "8\n",
      "[(2, 3), (3, 2)]\n",
      "False\n",
      "False\n"
     ]
    }
   ],
   "source": [
    "# 101 Miller Index\n",
    "slabgen_101 = SlabGenerator(contcar, (1,0,1), 10, 10) # Structure, Miller index, minimum slab size, minimum vacuum size\n",
    "slabs_101 = slabgen_101.get_slabs(symmetrize=True) # Generate surfaces with a Miller index of (1, 0, 1)\n",
    "print(len(slabs_101))\n",
    "\n",
    "print(sf.match_slabs(slabs_101)) # slabs_101[2] and slabs_101[3] match\n",
    "print(sf.polar_slabs(slabs_101))\n",
    "print(sf.symmetric_slabs(slabs_101))"
   ]
  },
  {
   "cell_type": "code",
   "execution_count": 12,
   "metadata": {},
   "outputs": [
    {
     "name": "stdout",
     "output_type": "stream",
     "text": [
      "6\n",
      "False\n",
      "False\n",
      "False\n"
     ]
    }
   ],
   "source": [
    "# 011 Miller Index\n",
    "slabgen_011 = SlabGenerator(contcar, (0,1,1), 10, 10) # Structure, Miller index, minimum slab size, minimum vacuum size\n",
    "slabs_011 = slabgen_011.get_slabs(symmetrize=True) # Generate surfaces with a Miller index of (0, 1, 1)\n",
    "print(len(slabs_011))\n",
    "\n",
    "print(sf.match_slabs(slabs_011))\n",
    "print(sf.polar_slabs(slabs_011))\n",
    "print(sf.symmetric_slabs(slabs_011))"
   ]
  },
  {
   "cell_type": "code",
   "execution_count": 13,
   "metadata": {},
   "outputs": [
    {
     "name": "stdout",
     "output_type": "stream",
     "text": [
      "12\n",
      "[(0, 1), (1, 0), (4, 5), (5, 4), (6, 7), (7, 6), (10, 11), (11, 10)]\n",
      "False\n",
      "False\n"
     ]
    }
   ],
   "source": [
    "# 111 Miller Index\n",
    "slabgen_111 = SlabGenerator(contcar, (1,1,1), 10, 10) # Structure, Miller index, minimum slab size, minimum vacuum size\n",
    "slabs_111 = slabgen_111.get_slabs(symmetrize=True) # Generate surfaces with a Miller index of (1, 1, 1)\n",
    "print(len(slabs_111))\n",
    "\n",
    "print(sf.match_slabs(slabs_111)) # slabs_111[0] and slabs_111[1] match, slabs_111[4] and slabs_111[5] match, slabs_111[6] and slabs_111[7] match, slabs_111[10] and slabs_111[11] match\n",
    "print(sf.polar_slabs(slabs_111))\n",
    "print(sf.symmetric_slabs(slabs_111))"
   ]
  },
  {
   "cell_type": "markdown",
   "metadata": {},
   "source": [
    "48 slabs generated in total\n",
    "\n",
    "0 polar slabs generated\n",
    "\n",
    "0 non-symmetric slabs\n",
    "\n",
    "2/8 surfaces generated by the 101 Miller index are \"matching\"\n",
    "\n",
    "8/12 surfaces generated by the 111 Miller index are \"matching\"\n",
    "\n",
    "43 non-matching slabs generated in total"
   ]
  },
  {
   "cell_type": "markdown",
   "metadata": {},
   "source": [
    "# Slab generation to do convergence tests"
   ]
  },
  {
   "cell_type": "code",
   "execution_count": 14,
   "metadata": {},
   "outputs": [],
   "source": [
    "# 001 Miller index\n",
    "slabgen_001_converge = []\n",
    "for i in range(1, 35):\n",
    "    slabgen_001_i = SlabGenerator(contcar, (0,0,1), 10, i) # Structure, Miller index, minimum slab size, minimum vacuum size\n",
    "    slabs_001_i = slabgen_001_i.get_slabs(symmetrize=True) # Generate surfaces with a Miller index of (0, 0, 1)\n",
    "    slabgen_001_converge.append(slabs_001_i)\n"
   ]
  },
  {
   "cell_type": "code",
   "execution_count": 15,
   "metadata": {},
   "outputs": [],
   "source": [
    "# Access the first termination of the 001 Miller index for each vacuum size\n",
    "# Don't know if the first termination for each vacuum size represents the same system where vacuum\n",
    "# size is the only difference, but for now we assume.\n",
    "\n",
    "first_term = []\n",
    "for vac_size in slabgen_001_converge:\n",
    "    first_term.append(vac_size[0])"
   ]
  },
  {
   "cell_type": "code",
   "execution_count": 16,
   "metadata": {},
   "outputs": [
    {
     "name": "stderr",
     "output_type": "stream",
     "text": [
      "/Users/eyob/Library/Python/3.9/lib/python/site-packages/pymatgen/io/vasp/inputs.py:624: EncodingWarning: We strongly encourage explicit `encoding`, and we would use UTF-8 by default as per PEP 686\n",
      "  with zopen(filename, mode=\"wt\") as file:\n"
     ]
    }
   ],
   "source": [
    "c_param = 0\n",
    "for i, vac_size in enumerate(first_term):\n",
    "    if vac_size.lattice.c != c_param:\n",
    "        c_param = vac_size.lattice.c\n",
    "        vac_size.to(filename=f\"001_facet_01_term_vac_{vac_size.lattice.c:.2f}.POSCAR\")"
   ]
  },
  {
   "cell_type": "code",
   "execution_count": 17,
   "metadata": {},
   "outputs": [],
   "source": [
    "def surface_energy(area, e_slab, e_bulk, n_slab):\n",
    "    coeff = 1 / 2 * area\n",
    "    return coeff * (e_slab - n_slab * e_bulk)"
   ]
  },
  {
   "cell_type": "markdown",
   "metadata": {},
   "source": [
    "# Test vacuum convergence script"
   ]
  },
  {
   "cell_type": "code",
   "execution_count": 18,
   "metadata": {},
   "outputs": [],
   "source": [
    "sf.vac_converge(contcar, (0,0,1), 35)"
   ]
  },
  {
   "cell_type": "code",
   "execution_count": 19,
   "metadata": {},
   "outputs": [
    {
     "name": "stderr",
     "output_type": "stream",
     "text": [
      "/Users/eyob/Library/Python/3.9/lib/python/site-packages/pymatgen/io/vasp/inputs.py:624: EncodingWarning: We strongly encourage explicit `encoding`, and we would use UTF-8 by default as per PEP 686\n",
      "  with zopen(filename, mode=\"wt\") as file:\n"
     ]
    }
   ],
   "source": [
    "sf.vac_converge(contcar, (0,1,0), 35)"
   ]
  },
  {
   "cell_type": "code",
   "execution_count": 20,
   "metadata": {},
   "outputs": [],
   "source": [
    "sf.vac_converge(contcar, (1,0,0), 35)"
   ]
  },
  {
   "cell_type": "code",
   "execution_count": 21,
   "metadata": {},
   "outputs": [],
   "source": [
    "sf.vac_converge(contcar, (1,1,0), 35)"
   ]
  },
  {
   "cell_type": "code",
   "execution_count": 22,
   "metadata": {},
   "outputs": [],
   "source": [
    "sf.vac_converge(contcar, (1,0,1), 35)"
   ]
  },
  {
   "cell_type": "code",
   "execution_count": 23,
   "metadata": {},
   "outputs": [],
   "source": [
    "sf.vac_converge(contcar, (0,1,1), 35)"
   ]
  },
  {
   "cell_type": "code",
   "execution_count": 24,
   "metadata": {},
   "outputs": [],
   "source": [
    "sf.vac_converge(contcar, (1,1,1), 35)"
   ]
  }
 ],
 "metadata": {
  "kernelspec": {
   "display_name": "Python 3",
   "language": "python",
   "name": "python3"
  },
  "language_info": {
   "codemirror_mode": {
    "name": "ipython",
    "version": 3
   },
   "file_extension": ".py",
   "mimetype": "text/x-python",
   "name": "python",
   "nbconvert_exporter": "python",
   "pygments_lexer": "ipython3",
   "version": "3.9.6"
  }
 },
 "nbformat": 4,
 "nbformat_minor": 2
}
