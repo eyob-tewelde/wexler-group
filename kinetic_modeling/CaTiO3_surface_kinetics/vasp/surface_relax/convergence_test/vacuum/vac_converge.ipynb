{
 "cells": [
  {
   "cell_type": "code",
   "execution_count": 28,
   "metadata": {},
   "outputs": [],
   "source": [
    "from pymatgen.ext.matproj import MPRester\n",
    "from pymatgen.core import Structure\n",
    "from pymatgen.io.vasp.outputs import Oszicar, Outcar, Vasprun\n",
    "from pymatgen.core.surface import SlabGenerator\n",
    "from pymatgen.analysis.surface_analysis import get_slab_regions\n",
    "import slab_functions as sf\n",
    "import numpy as np\n",
    "import crystal_toolkit"
   ]
  },
  {
   "cell_type": "code",
   "execution_count": 29,
   "metadata": {},
   "outputs": [
    {
     "name": "stdout",
     "output_type": "stream",
     "text": [
      "Full Formula (Ca4 Ti4 O12)\n",
      "Reduced Formula: CaTiO3\n",
      "abc   :   5.409826   5.516706   7.700753\n",
      "angles:  90.000000  90.000000  90.000000\n",
      "pbc   :       True       True       True\n",
      "Sites (20)\n",
      "  #  SP            a         b         c\n",
      "---  ----  ---------  --------  --------\n",
      "  0  Ca     0.509596  0.544671  0.75\n",
      "  1  Ca     0.490404  0.455329  0.25\n",
      "  2  Ca     0.990404  0.044671  0.75\n",
      "  3  Ca     0.009596  0.955329  0.25\n",
      "  4  Ti    -0         0.5       0.5\n",
      "  5  Ti     0         0.5       0\n",
      "  6  Ti     0.5       0         0.5\n",
      "  7  Ti     0.5       0         0\n",
      "  8  O      0.079636  0.479698  0.75\n",
      "  9  O      0.920364  0.520302  0.25\n",
      " 10  O      0.420364  0.979698  0.75\n",
      " 11  O      0.579636  0.020302  0.25\n",
      " 12  O      0.791502  0.790711  0.958162\n",
      " 13  O      0.208498  0.209289  0.458162\n",
      " 14  O      0.208498  0.209289  0.041838\n",
      " 15  O      0.791502  0.790711  0.541838\n",
      " 16  O      0.708498  0.290711  0.958162\n",
      " 17  O      0.291502  0.709289  0.458162\n",
      " 18  O      0.291502  0.709289  0.041838\n",
      " 19  O      0.708498  0.290711  0.541838\n"
     ]
    }
   ],
   "source": [
    "# Import bulk-relaxed CaTiO3\n",
    "\n",
    "bulk_relaxed_CONTAR = Structure.from_file(\"/Users/eyob/Desktop/lab/cctm/kinetic_modeling/catio3_surface_kinetics/vasp/surface_relax/convergence_test/bulk_relaxed_CONTCAR\")\n",
    "print(bulk_relaxed_CONTAR)"
   ]
  },
  {
   "cell_type": "markdown",
   "metadata": {},
   "source": [
    "# Test vacuum convergence script"
   ]
  },
  {
   "cell_type": "code",
   "execution_count": 30,
   "metadata": {},
   "outputs": [],
   "source": [
    "# sf.vac_converge(bulk_relaxed_CONTAR, (0,0,1), 35)"
   ]
  },
  {
   "cell_type": "code",
   "execution_count": 31,
   "metadata": {},
   "outputs": [],
   "source": [
    "# sf.vac_converge(bulk_relaxed_CONTAR, (0,1,0), 35)"
   ]
  },
  {
   "cell_type": "code",
   "execution_count": 32,
   "metadata": {},
   "outputs": [],
   "source": [
    "# sf.vac_converge(bulk_relaxed_CONTAR, (1,0,0), 35)"
   ]
  },
  {
   "cell_type": "code",
   "execution_count": 33,
   "metadata": {},
   "outputs": [],
   "source": [
    "# sf.vac_converge(bulk_relaxed_CONTAR, (1,1,0), 35)"
   ]
  },
  {
   "cell_type": "code",
   "execution_count": 34,
   "metadata": {},
   "outputs": [],
   "source": [
    "# sf.vac_converge(bulk_relaxed_CONTAR, (1,0,1), 35)"
   ]
  },
  {
   "cell_type": "code",
   "execution_count": 35,
   "metadata": {},
   "outputs": [],
   "source": [
    "# sf.vac_converge(bulk_relaxed_CONTAR, (0,1,1), 35)"
   ]
  },
  {
   "cell_type": "code",
   "execution_count": 36,
   "metadata": {},
   "outputs": [],
   "source": [
    "# sf.vac_converge(bulk_relaxed_CONTAR, (1,1,1), 35)"
   ]
  },
  {
   "cell_type": "markdown",
   "metadata": {},
   "source": [
    "### file generation script worked #epic\n",
    "\n",
    "but I probably don't need to test such a wide range of vacuum sizes for all systems"
   ]
  },
  {
   "cell_type": "markdown",
   "metadata": {},
   "source": [
    "# Import relaxed CaTiO3 slabs for different vacuum sizes"
   ]
  },
  {
   "cell_type": "markdown",
   "metadata": {},
   "source": [
    "### Import slabs for 001 surface"
   ]
  },
  {
   "cell_type": "code",
   "execution_count": 37,
   "metadata": {},
   "outputs": [
    {
     "name": "stdout",
     "output_type": "stream",
     "text": [
      "Full Formula (Ca6 Ti8 O22)\n",
      "Reduced Formula: Ca3Ti4O11\n",
      "abc   :   5.409826   5.516706  23.102260\n",
      "angles:  90.000000  90.000000  90.000000\n",
      "pbc   :       True       True       True\n",
      "Sites (36)\n",
      "  #  SP           a         b         c\n",
      "---  ----  --------  --------  --------\n",
      "  0  Ca2+  0.509596  0.544671  0.20136\n",
      "  1  Ca2+  0.990404  0.044671  0.20136\n",
      "  2  Ti4+  0         0.5       0.118027\n",
      "  3  Ti4+  0         0.5       0.284694\n",
      "  4  Ti4+  0.5       0         0.118027\n",
      "  5  Ti4+  0.5       0         0.284694\n",
      "  6  O2-   0.079636  0.479698  0.20136\n",
      "  7  O2-   0.420364  0.979698  0.20136\n",
      "  8  O2-   0.791502  0.790711  0.270748\n",
      "  9  O2-   0.208498  0.209289  0.104081\n",
      " 10  O2-   0.208498  0.209289  0.29864\n",
      " 11  O2-   0.791502  0.790711  0.131973\n",
      " 12  O2-   0.708498  0.290711  0.270748\n",
      " 13  O2-   0.291502  0.709289  0.104081\n",
      " 14  O2-   0.291502  0.709289  0.29864\n",
      " 15  O2-   0.708498  0.290711  0.131973\n",
      " 16  Ca2+  0.509596  0.544671  0.534694\n",
      " 17  Ca2+  0.490404  0.455329  0.368027\n",
      " 18  Ca2+  0.990404  0.044671  0.534694\n",
      " 19  Ca2+  0.009596  0.955329  0.368027\n",
      " 20  Ti4+  0         0.5       0.45136\n",
      " 21  Ti4+  0         0.5       0.618027\n",
      " 22  Ti4+  0.5       0         0.45136\n",
      " 23  Ti4+  0.5       0         0.618027\n",
      " 24  O2-   0.079636  0.479698  0.534694\n",
      " 25  O2-   0.920364  0.520302  0.368027\n",
      " 26  O2-   0.420364  0.979698  0.534694\n",
      " 27  O2-   0.579636  0.020302  0.368027\n",
      " 28  O2-   0.791502  0.790711  0.604081\n",
      " 29  O2-   0.208498  0.209289  0.437414\n",
      " 30  O2-   0.208498  0.209289  0.631973\n",
      " 31  O2-   0.791502  0.790711  0.465306\n",
      " 32  O2-   0.708498  0.290711  0.604081\n",
      " 33  O2-   0.291502  0.709289  0.437414\n",
      " 34  O2-   0.291502  0.709289  0.631973\n",
      " 35  O2-   0.708498  0.290711  0.465306\n"
     ]
    }
   ],
   "source": [
    "# Import slabs for the first termination\n",
    "\n",
    "# c = 23.10 (v1)\n",
    "\n",
    "# Pre-relaxation\n",
    "pre_v1_001 = Structure.from_file(\"/Users/eyob/Desktop/lab/cctm/kinetic_modeling/catio3_surface_kinetics/vasp/surface_relax/convergence_test/vacuum/001/1_term/pre_relax/001_1_term_vac_23.10.POSCAR\")\n",
    "pre_v1_001.add_oxidation_state_by_element({\"Ca\":2, \"Ti\":4, \"O\":-2})\n",
    "print(pre_v1_001)"
   ]
  },
  {
   "cell_type": "code",
   "execution_count": 38,
   "metadata": {},
   "outputs": [
    {
     "name": "stdout",
     "output_type": "stream",
     "text": [
      "Full Formula (Ca6 Ti8 O22)\n",
      "Reduced Formula: Ca3Ti4O11\n",
      "abc   :   5.409826   5.516706  23.102260\n",
      "angles:  90.000000  90.000000  90.000000\n",
      "pbc   :       True       True       True\n",
      "Sites (36)\n",
      "  #  SP           a         b         c\n",
      "---  ----  --------  --------  --------\n",
      "  0  Ca2+  0.517479  0.534199  0.194062\n",
      "  1  Ca2+  0.982521  0.034199  0.194062\n",
      "  2  Ti4+  0.018391  0.517198  0.122358\n",
      "  3  Ti4+  0.994633  0.48602   0.286032\n",
      "  4  Ti4+  0.481609  0.017198  0.122358\n",
      "  5  Ti4+  0.505367  0.98602   0.286032\n",
      "  6  O2-   0.083917  0.487557  0.201703\n",
      "  7  O2-   0.416083  0.987557  0.201703\n",
      "  8  O2-   0.791084  0.797912  0.269818\n",
      "  9  O2-   0.219533  0.219981  0.106023\n",
      " 10  O2-   0.21044   0.221101  0.300509\n",
      " 11  O2-   0.772554  0.764081  0.129717\n",
      " 12  O2-   0.708916  0.297912  0.269818\n",
      " 13  O2-   0.280467  0.719981  0.106023\n",
      " 14  O2-   0.28956   0.721101  0.300509\n",
      " 15  O2-   0.727446  0.264081  0.129717\n",
      " 16  Ca2+  0.517296  0.53104   0.542168\n",
      " 17  Ca2+  0.484631  0.452783  0.368048\n",
      " 18  Ca2+  0.982704  0.03104   0.542168\n",
      " 19  Ca2+  0.015369  0.952783  0.368048\n",
      " 20  Ti4+  0.9939    0.481475  0.45024\n",
      " 21  Ti4+  0.01953   0.518516  0.613194\n",
      " 22  Ti4+  0.5061    0.981475  0.45024\n",
      " 23  Ti4+  0.48047   0.018516  0.613194\n",
      " 24  O2-   0.082317  0.487981  0.534446\n",
      " 25  O2-   0.913711  0.526298  0.36832\n",
      " 26  O2-   0.417683  0.987981  0.534446\n",
      " 27  O2-   0.586289  0.026298  0.36832\n",
      " 28  O2-   0.772522  0.759218  0.606452\n",
      " 29  O2-   0.209881  0.222678  0.435885\n",
      " 30  O2-   0.221886  0.218599  0.629233\n",
      " 31  O2-   0.789063  0.797732  0.466278\n",
      " 32  O2-   0.727478  0.259218  0.606452\n",
      " 33  O2-   0.290119  0.722678  0.435885\n",
      " 34  O2-   0.278114  0.718599  0.629233\n",
      " 35  O2-   0.710937  0.297732  0.466278\n"
     ]
    }
   ],
   "source": [
    "# Post-relaxation\n",
    "post_v1_001 = Structure.from_file(\"/Users/eyob/Desktop/lab/cctm/kinetic_modeling/catio3_surface_kinetics/vasp/surface_relax/convergence_test/vacuum/001/1_term/post_relax/001_v1_CONTCAR\")\n",
    "post_v1_001.add_oxidation_state_by_element({\"Ca\":2, \"Ti\":4, \"O\":-2})\n",
    "print(post_v1_001)"
   ]
  },
  {
   "cell_type": "code",
   "execution_count": 39,
   "metadata": {},
   "outputs": [
    {
     "name": "stdout",
     "output_type": "stream",
     "text": [
      "True\n",
      "689.4735496830646\n",
      "True\n"
     ]
    }
   ],
   "source": [
    "print(pre_v1_001.volume == post_v1_001.volume)\n",
    "print(pre_v1_001.volume)\n",
    "print(pre_v1_001.matches(post_v1_001))"
   ]
  },
  {
   "cell_type": "code",
   "execution_count": 40,
   "metadata": {},
   "outputs": [
    {
     "name": "stdout",
     "output_type": "stream",
     "text": [
      "True\n",
      "2.3491467212146935 g cm^-3\n"
     ]
    }
   ],
   "source": [
    "print(pre_v1_001.density == post_v1_001.density)\n",
    "print(pre_v1_001.density)"
   ]
  },
  {
   "cell_type": "markdown",
   "metadata": {},
   "source": [
    "# Checklist of vacuum convergence optimizations\n",
    "\n",
    "### 001_facet\n",
    "- 01_term\n",
    "    - vac_size_1 ✔\n",
    "    - vac_size_2\n",
    "    - vac_size_3\n",
    "    - vac_size_4\n",
    "    - vac_size_5\n",
    "- 02_term\n",
    "    - vac_size_1 \n",
    "    - vac_size_2\n",
    "    - vac_size_3\n",
    "    - vac_size_4\n",
    "    - vac_size_5\n",
    "- 03_term\n",
    "    - vac_size_1 \n",
    "    - vac_size_2\n",
    "    - vac_size_3\n",
    "    - vac_size_4\n",
    "    - vac_size_5\n",
    "- 04_term\n",
    "    - vac_size_1 \n",
    "    - vac_size_2\n",
    "    - vac_size_3\n",
    "    - vac_size_4\n",
    "    - vac_size_5\n",
    "\n",
    "### 010_facet\n",
    "- 01_term\n",
    "    - vac_size_1 \n",
    "    - vac_size_2\n",
    "    - vac_size_3\n",
    "    - vac_size_4\n",
    "    - vac_size_5\n",
    "- 02_term\n",
    "    - vac_size_1 \n",
    "    - vac_size_2\n",
    "    - vac_size_3\n",
    "    - vac_size_4\n",
    "    - vac_size_5\n",
    "- 03_term\n",
    "    - vac_size_1 \n",
    "    - vac_size_2\n",
    "    - vac_size_3\n",
    "    - vac_size_4\n",
    "    - vac_size_5\n",
    "- 04_term\n",
    "    - vac_size_1 \n",
    "    - vac_size_2\n",
    "    - vac_size_3\n",
    "    - vac_size_4\n",
    "    - vac_size_5\n",
    "- 05_term\n",
    "    - vac_size_1 \n",
    "    - vac_size_2\n",
    "    - vac_size_3\n",
    "    - vac_size_4\n",
    "    - vac_size_5\n",
    "- 06_term\n",
    "    - vac_size_1 \n",
    "    - vac_size_2\n",
    "    - vac_size_3\n",
    "    - vac_size_4\n",
    "    - vac_size_5\n",
    "- 07_term\n",
    "    - vac_size_1 \n",
    "    - vac_size_2\n",
    "    - vac_size_3\n",
    "    - vac_size_4\n",
    "    - vac_size_5\n",
    "\n",
    "### 100_facet\n",
    "- 01_term\n",
    "    - vac_size_1 \n",
    "    - vac_size_2\n",
    "    - vac_size_3\n",
    "    - vac_size_4\n",
    "    - vac_size_5\n",
    "- 02_term\n",
    "    - vac_size_1 \n",
    "    - vac_size_2\n",
    "    - vac_size_3\n",
    "    - vac_size_4\n",
    "    - vac_size_5\n",
    "- 03_term\n",
    "    - vac_size_1 \n",
    "    - vac_size_2\n",
    "    - vac_size_3\n",
    "    - vac_size_4\n",
    "    - vac_size_5\n",
    "- 04_term\n",
    "    - vac_size_1 \n",
    "    - vac_size_2\n",
    "    - vac_size_3\n",
    "    - vac_size_4\n",
    "    - vac_size_5\n",
    "- 05_term\n",
    "    - vac_size_1 \n",
    "    - vac_size_2\n",
    "    - vac_size_3\n",
    "    - vac_size_4\n",
    "    - vac_size_5\n",
    "\n",
    "### 011_facet\n",
    "- 01_term\n",
    "    - vac_size_1 \n",
    "    - vac_size_2\n",
    "    - vac_size_3\n",
    "    - vac_size_4\n",
    "    - vac_size_5\n",
    "- 02_term\n",
    "    - vac_size_1 \n",
    "    - vac_size_2\n",
    "    - vac_size_3\n",
    "    - vac_size_4\n",
    "    - vac_size_5\n",
    "- 03_term\n",
    "    - vac_size_1 \n",
    "    - vac_size_2\n",
    "    - vac_size_3\n",
    "    - vac_size_4\n",
    "    - vac_size_5\n",
    "- 04_term\n",
    "    - vac_size_1 \n",
    "    - vac_size_2\n",
    "    - vac_size_3\n",
    "    - vac_size_4\n",
    "    - vac_size_5\n",
    "- 05_term\n",
    "    - vac_size_1 \n",
    "    - vac_size_2\n",
    "    - vac_size_3\n",
    "    - vac_size_4\n",
    "    - vac_size_5\n",
    "- 06_term\n",
    "    - vac_size_1 \n",
    "    - vac_size_2\n",
    "    - vac_size_3\n",
    "    - vac_size_4\n",
    "    - vac_size_5\n",
    "\n",
    "### 101_facet\n",
    "- 01_term\n",
    "    - vac_size_1 \n",
    "    - vac_size_2\n",
    "    - vac_size_3\n",
    "    - vac_size_4\n",
    "    - vac_size_5\n",
    "- 02_term\n",
    "    - vac_size_1 \n",
    "    - vac_size_2\n",
    "    - vac_size_3\n",
    "    - vac_size_4\n",
    "    - vac_size_5\n",
    "- 03_term\n",
    "    - vac_size_1 \n",
    "    - vac_size_2\n",
    "    - vac_size_3\n",
    "    - vac_size_4\n",
    "    - vac_size_5\n",
    "- 04_term\n",
    "    - vac_size_1 \n",
    "    - vac_size_2\n",
    "    - vac_size_3\n",
    "    - vac_size_4\n",
    "    - vac_size_5\n",
    "- 05_term\n",
    "    - vac_size_1 \n",
    "    - vac_size_2\n",
    "    - vac_size_3\n",
    "    - vac_size_4\n",
    "    - vac_size_5\n",
    "- 06_term\n",
    "    - vac_size_1 \n",
    "    - vac_size_2\n",
    "    - vac_size_3\n",
    "    - vac_size_4\n",
    "    - vac_size_5\n",
    "- 07_term\n",
    "    - vac_size_1 \n",
    "    - vac_size_2\n",
    "    - vac_size_3\n",
    "    - vac_size_4\n",
    "    - vac_size_5\n",
    "\n",
    "### 110_facet\n",
    "- 01_term\n",
    "    - vac_size_1 \n",
    "    - vac_size_2\n",
    "    - vac_size_3\n",
    "    - vac_size_4\n",
    "    - vac_size_5\n",
    "- 02_term\n",
    "    - vac_size_1 \n",
    "    - vac_size_2\n",
    "    - vac_size_3\n",
    "    - vac_size_4\n",
    "    - vac_size_5\n",
    "- 03_term\n",
    "    - vac_size_1 \n",
    "    - vac_size_2\n",
    "    - vac_size_3\n",
    "    - vac_size_4\n",
    "    - vac_size_5\n",
    "- 04_term\n",
    "    - vac_size_1 \n",
    "    - vac_size_2\n",
    "    - vac_size_3\n",
    "    - vac_size_4\n",
    "    - vac_size_5\n",
    "- 05_term\n",
    "    - vac_size_1 \n",
    "    - vac_size_2\n",
    "    - vac_size_3\n",
    "    - vac_size_4\n",
    "    - vac_size_5\n",
    "- 06_term\n",
    "    - vac_size_1 \n",
    "    - vac_size_2\n",
    "    - vac_size_3\n",
    "    - vac_size_4\n",
    "    - vac_size_5\n",
    "\n",
    "### 111_facet\n",
    "- 01_term\n",
    "    - vac_size_1 \n",
    "    - vac_size_2\n",
    "    - vac_size_3\n",
    "    - vac_size_4\n",
    "    - vac_size_5\n",
    "- 02_term\n",
    "    - vac_size_1 \n",
    "    - vac_size_2\n",
    "    - vac_size_3\n",
    "    - vac_size_4\n",
    "    - vac_size_5\n",
    "- 03_term\n",
    "    - vac_size_1 \n",
    "    - vac_size_2\n",
    "    - vac_size_3\n",
    "    - vac_size_4\n",
    "    - vac_size_5\n",
    "- 04_term\n",
    "    - vac_size_1 \n",
    "    - vac_size_2\n",
    "    - vac_size_3\n",
    "    - vac_size_4\n",
    "    - vac_size_5\n",
    "- 05_term\n",
    "    - vac_size_1 \n",
    "    - vac_size_2\n",
    "    - vac_size_3\n",
    "    - vac_size_4\n",
    "    - vac_size_5\n",
    "- 06_term\n",
    "    - vac_size_1 \n",
    "    - vac_size_2\n",
    "    - vac_size_3\n",
    "    - vac_size_4\n",
    "    - vac_size_5\n",
    "- 07_term\n",
    "    - vac_size_1 \n",
    "    - vac_size_2\n",
    "    - vac_size_3\n",
    "    - vac_size_4\n",
    "    - vac_size_5\n",
    "- 08_term\n",
    "    - vac_size_1 \n",
    "    - vac_size_2\n",
    "    - vac_size_3\n",
    "    - vac_size_4\n",
    "    - vac_size_5"
   ]
  },
  {
   "cell_type": "code",
   "execution_count": 41,
   "metadata": {},
   "outputs": [
    {
     "data": {
      "text/html": [
       "\n",
       "        <iframe\n",
       "            width=\"100%\"\n",
       "            height=\"650\"\n",
       "            src=\"http://127.0.0.1:8884/\"\n",
       "            frameborder=\"0\"\n",
       "            allowfullscreen\n",
       "            \n",
       "        ></iframe>\n",
       "        "
      ],
      "text/plain": [
       "<IPython.lib.display.IFrame at 0x30a5f4ee0>"
      ]
     },
     "metadata": {},
     "output_type": "display_data"
    }
   ],
   "source": [
    "pre_v1_001"
   ]
  },
  {
   "cell_type": "code",
   "execution_count": 42,
   "metadata": {},
   "outputs": [
    {
     "data": {
      "text/html": [
       "\n",
       "        <iframe\n",
       "            width=\"100%\"\n",
       "            height=\"650\"\n",
       "            src=\"http://127.0.0.1:8884/\"\n",
       "            frameborder=\"0\"\n",
       "            allowfullscreen\n",
       "            \n",
       "        ></iframe>\n",
       "        "
      ],
      "text/plain": [
       "<IPython.lib.display.IFrame at 0x30a08edf0>"
      ]
     },
     "metadata": {},
     "output_type": "display_data"
    }
   ],
   "source": [
    "post_v1_001"
   ]
  },
  {
   "cell_type": "code",
   "execution_count": null,
   "metadata": {},
   "outputs": [],
   "source": []
  }
 ],
 "metadata": {
  "kernelspec": {
   "display_name": "Python 3",
   "language": "python",
   "name": "python3"
  },
  "language_info": {
   "codemirror_mode": {
    "name": "ipython",
    "version": 3
   },
   "file_extension": ".py",
   "mimetype": "text/x-python",
   "name": "python",
   "nbconvert_exporter": "python",
   "pygments_lexer": "ipython3",
   "version": "3.9.6"
  }
 },
 "nbformat": 4,
 "nbformat_minor": 2
}
