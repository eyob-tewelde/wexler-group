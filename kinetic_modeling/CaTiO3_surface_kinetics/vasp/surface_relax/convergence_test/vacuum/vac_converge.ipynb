{
 "cells": [
  {
   "cell_type": "code",
   "execution_count": 11,
   "metadata": {},
   "outputs": [],
   "source": [
    "from pymatgen.ext.matproj import MPRester\n",
    "from pymatgen.core import Structure\n",
    "from pymatgen.io.vasp.outputs import Oszicar, Outcar, Vasprun, Poscar\n",
    "from pymatgen.core.surface import SlabGenerator\n",
    "from pymatgen.analysis.surface_analysis import get_slab_regions\n",
    "import slab_functions as sf\n",
    "import numpy as np\n",
    "import crystal_toolkit"
   ]
  },
  {
   "cell_type": "code",
   "execution_count": 12,
   "metadata": {},
   "outputs": [
    {
     "name": "stdout",
     "output_type": "stream",
     "text": [
      "20\n",
      "[2.75682796 3.004791   5.77556506] Ca\n"
     ]
    },
    {
     "data": {
      "text/html": [
       "\n",
       "        <iframe\n",
       "            width=\"100%\"\n",
       "            height=\"650\"\n",
       "            src=\"http://127.0.0.1:8884/\"\n",
       "            frameborder=\"0\"\n",
       "            allowfullscreen\n",
       "            \n",
       "        ></iframe>\n",
       "        "
      ],
      "text/plain": [
       "<IPython.lib.display.IFrame at 0x30da5fd90>"
      ]
     },
     "metadata": {},
     "output_type": "display_data"
    }
   ],
   "source": [
    "# Import bulk-relaxed CaTiO3\n",
    "\n",
    "bulk_relaxed_CONTAR = Structure.from_file(\"/Users/eyob/Desktop/lab/cctm/kinetic_modeling/catio3_surface_kinetics/vasp/surface_relax/convergence_test/bulk_relaxed_CONTCAR\")\n",
    "cart_coords = bulk_relaxed_CONTAR.cart_coords\n",
    "print(len(bulk_relaxed_CONTAR.cart_coords))\n",
    "# print(bulk_relaxed_CONTAR)\n",
    "print(bulk_relaxed_CONTAR[0])\n",
    "# # for i in range (0, 21):\n",
    "# #     bulk_relaxed_CONTAR[i] = cart_coords[i]\n",
    "\n",
    "# print(cart_coords[0])\n",
    "# print(bulk_relaxed_CONTAR[0])\n",
    "# # print(bulk_relaxed_CONTAR)\n",
    "bulk_relaxed_CONTAR"
   ]
  },
  {
   "cell_type": "markdown",
   "metadata": {},
   "source": [
    "# Test vacuum convergence script"
   ]
  },
  {
   "cell_type": "code",
   "execution_count": 37,
   "metadata": {},
   "outputs": [],
   "source": [
    "template_slab_generator = SlabGenerator(bulk_relaxed_CONTAR, (0,0,1), 10, 0)\n",
    "template_slabs = template_slab_generator.get_slabs(symmetrize=True)\n",
    "template_slabs[0]\n",
    "template = Poscar(template_slabs[0])\n",
    "template.write_file(f\"template.POSCAR\", direct=False)\n",
    "\n"
   ]
  },
  {
   "cell_type": "code",
   "execution_count": 31,
   "metadata": {},
   "outputs": [],
   "source": [
    "# sf.vac_converge(bulk_relaxed_CONTAR, (0,1,0), 35)"
   ]
  },
  {
   "cell_type": "code",
   "execution_count": 32,
   "metadata": {},
   "outputs": [],
   "source": [
    "# sf.vac_converge(bulk_relaxed_CONTAR, (1,0,0), 35)"
   ]
  },
  {
   "cell_type": "code",
   "execution_count": 33,
   "metadata": {},
   "outputs": [],
   "source": [
    "# sf.vac_converge(bulk_relaxed_CONTAR, (1,1,0), 35)"
   ]
  },
  {
   "cell_type": "code",
   "execution_count": 34,
   "metadata": {},
   "outputs": [],
   "source": [
    "# sf.vac_converge(bulk_relaxed_CONTAR, (1,0,1), 35)"
   ]
  },
  {
   "cell_type": "code",
   "execution_count": 35,
   "metadata": {},
   "outputs": [],
   "source": [
    "# sf.vac_converge(bulk_relaxed_CONTAR, (0,1,1), 35)"
   ]
  },
  {
   "cell_type": "code",
   "execution_count": 36,
   "metadata": {},
   "outputs": [],
   "source": [
    "# sf.vac_converge(bulk_relaxed_CONTAR, (1,1,1), 35)"
   ]
  },
  {
   "cell_type": "markdown",
   "metadata": {},
   "source": [
    "### file generation script worked #epic\n",
    "\n",
    "but I probably don't need to test such a wide range of vacuum sizes for all systems"
   ]
  },
  {
   "cell_type": "markdown",
   "metadata": {},
   "source": [
    "# Import relaxed CaTiO3 slabs for different vacuum sizes"
   ]
  },
  {
   "cell_type": "markdown",
   "metadata": {},
   "source": [
    "### Import slabs for 001 surface"
   ]
  },
  {
   "cell_type": "code",
   "execution_count": 37,
   "metadata": {},
   "outputs": [
    {
     "name": "stdout",
     "output_type": "stream",
     "text": [
      "Full Formula (Ca6 Ti8 O22)\n",
      "Reduced Formula: Ca3Ti4O11\n",
      "abc   :   5.409826   5.516706  23.102260\n",
      "angles:  90.000000  90.000000  90.000000\n",
      "pbc   :       True       True       True\n",
      "Sites (36)\n",
      "  #  SP           a         b         c\n",
      "---  ----  --------  --------  --------\n",
      "  0  Ca2+  0.509596  0.544671  0.20136\n",
      "  1  Ca2+  0.990404  0.044671  0.20136\n",
      "  2  Ti4+  0         0.5       0.118027\n",
      "  3  Ti4+  0         0.5       0.284694\n",
      "  4  Ti4+  0.5       0         0.118027\n",
      "  5  Ti4+  0.5       0         0.284694\n",
      "  6  O2-   0.079636  0.479698  0.20136\n",
      "  7  O2-   0.420364  0.979698  0.20136\n",
      "  8  O2-   0.791502  0.790711  0.270748\n",
      "  9  O2-   0.208498  0.209289  0.104081\n",
      " 10  O2-   0.208498  0.209289  0.29864\n",
      " 11  O2-   0.791502  0.790711  0.131973\n",
      " 12  O2-   0.708498  0.290711  0.270748\n",
      " 13  O2-   0.291502  0.709289  0.104081\n",
      " 14  O2-   0.291502  0.709289  0.29864\n",
      " 15  O2-   0.708498  0.290711  0.131973\n",
      " 16  Ca2+  0.509596  0.544671  0.534694\n",
      " 17  Ca2+  0.490404  0.455329  0.368027\n",
      " 18  Ca2+  0.990404  0.044671  0.534694\n",
      " 19  Ca2+  0.009596  0.955329  0.368027\n",
      " 20  Ti4+  0         0.5       0.45136\n",
      " 21  Ti4+  0         0.5       0.618027\n",
      " 22  Ti4+  0.5       0         0.45136\n",
      " 23  Ti4+  0.5       0         0.618027\n",
      " 24  O2-   0.079636  0.479698  0.534694\n",
      " 25  O2-   0.920364  0.520302  0.368027\n",
      " 26  O2-   0.420364  0.979698  0.534694\n",
      " 27  O2-   0.579636  0.020302  0.368027\n",
      " 28  O2-   0.791502  0.790711  0.604081\n",
      " 29  O2-   0.208498  0.209289  0.437414\n",
      " 30  O2-   0.208498  0.209289  0.631973\n",
      " 31  O2-   0.791502  0.790711  0.465306\n",
      " 32  O2-   0.708498  0.290711  0.604081\n",
      " 33  O2-   0.291502  0.709289  0.437414\n",
      " 34  O2-   0.291502  0.709289  0.631973\n",
      " 35  O2-   0.708498  0.290711  0.465306\n"
     ]
    }
   ],
   "source": [
    "# Import slabs for the first termination\n",
    "\n",
    "# c = 23.10 (v1)\n",
    "\n",
    "# Pre-relaxation\n",
    "pre_v1_001 = Structure.from_file(\"/Users/eyob/Desktop/lab/cctm/kinetic_modeling/catio3_surface_kinetics/vasp/surface_relax/convergence_test/vacuum/001/1_term/pre_relax/001_1_term_vac_23.10.POSCAR\")\n",
    "pre_v1_001.add_oxidation_state_by_element({\"Ca\":2, \"Ti\":4, \"O\":-2})\n",
    "print(pre_v1_001)"
   ]
  },
  {
   "cell_type": "code",
   "execution_count": 38,
   "metadata": {},
   "outputs": [
    {
     "name": "stdout",
     "output_type": "stream",
     "text": [
      "Full Formula (Ca6 Ti8 O22)\n",
      "Reduced Formula: Ca3Ti4O11\n",
      "abc   :   5.409826   5.516706  23.102260\n",
      "angles:  90.000000  90.000000  90.000000\n",
      "pbc   :       True       True       True\n",
      "Sites (36)\n",
      "  #  SP           a         b         c\n",
      "---  ----  --------  --------  --------\n",
      "  0  Ca2+  0.517479  0.534199  0.194062\n",
      "  1  Ca2+  0.982521  0.034199  0.194062\n",
      "  2  Ti4+  0.018391  0.517198  0.122358\n",
      "  3  Ti4+  0.994633  0.48602   0.286032\n",
      "  4  Ti4+  0.481609  0.017198  0.122358\n",
      "  5  Ti4+  0.505367  0.98602   0.286032\n",
      "  6  O2-   0.083917  0.487557  0.201703\n",
      "  7  O2-   0.416083  0.987557  0.201703\n",
      "  8  O2-   0.791084  0.797912  0.269818\n",
      "  9  O2-   0.219533  0.219981  0.106023\n",
      " 10  O2-   0.21044   0.221101  0.300509\n",
      " 11  O2-   0.772554  0.764081  0.129717\n",
      " 12  O2-   0.708916  0.297912  0.269818\n",
      " 13  O2-   0.280467  0.719981  0.106023\n",
      " 14  O2-   0.28956   0.721101  0.300509\n",
      " 15  O2-   0.727446  0.264081  0.129717\n",
      " 16  Ca2+  0.517296  0.53104   0.542168\n",
      " 17  Ca2+  0.484631  0.452783  0.368048\n",
      " 18  Ca2+  0.982704  0.03104   0.542168\n",
      " 19  Ca2+  0.015369  0.952783  0.368048\n",
      " 20  Ti4+  0.9939    0.481475  0.45024\n",
      " 21  Ti4+  0.01953   0.518516  0.613194\n",
      " 22  Ti4+  0.5061    0.981475  0.45024\n",
      " 23  Ti4+  0.48047   0.018516  0.613194\n",
      " 24  O2-   0.082317  0.487981  0.534446\n",
      " 25  O2-   0.913711  0.526298  0.36832\n",
      " 26  O2-   0.417683  0.987981  0.534446\n",
      " 27  O2-   0.586289  0.026298  0.36832\n",
      " 28  O2-   0.772522  0.759218  0.606452\n",
      " 29  O2-   0.209881  0.222678  0.435885\n",
      " 30  O2-   0.221886  0.218599  0.629233\n",
      " 31  O2-   0.789063  0.797732  0.466278\n",
      " 32  O2-   0.727478  0.259218  0.606452\n",
      " 33  O2-   0.290119  0.722678  0.435885\n",
      " 34  O2-   0.278114  0.718599  0.629233\n",
      " 35  O2-   0.710937  0.297732  0.466278\n"
     ]
    }
   ],
   "source": [
    "# Post-relaxation\n",
    "post_v1_001 = Structure.from_file(\"/Users/eyob/Desktop/lab/cctm/kinetic_modeling/catio3_surface_kinetics/vasp/surface_relax/convergence_test/vacuum/001/1_term/post_relax/001_v1_CONTCAR\")\n",
    "post_v1_001.add_oxidation_state_by_element({\"Ca\":2, \"Ti\":4, \"O\":-2})\n",
    "print(post_v1_001)"
   ]
  },
  {
   "cell_type": "code",
   "execution_count": 39,
   "metadata": {},
   "outputs": [
    {
     "name": "stdout",
     "output_type": "stream",
     "text": [
      "True\n",
      "689.4735496830646\n",
      "True\n"
     ]
    }
   ],
   "source": [
    "print(pre_v1_001.volume == post_v1_001.volume)\n",
    "print(pre_v1_001.volume)\n",
    "print(pre_v1_001.matches(post_v1_001))"
   ]
  },
  {
   "cell_type": "code",
   "execution_count": 40,
   "metadata": {},
   "outputs": [
    {
     "name": "stdout",
     "output_type": "stream",
     "text": [
      "True\n",
      "2.3491467212146935 g cm^-3\n"
     ]
    }
   ],
   "source": [
    "print(pre_v1_001.density == post_v1_001.density)\n",
    "print(pre_v1_001.density)"
   ]
  },
  {
   "cell_type": "markdown",
   "metadata": {},
   "source": [
    "# Checklist of vacuum convergence optimizations\n",
    "\n",
    "### 001_facet\n",
    "- 01_term\n",
    "    - vac_size_1 ✔\n",
    "    - vac_size_2\n",
    "    - vac_size_3\n",
    "    - vac_size_4\n",
    "    - vac_size_5\n",
    "- 02_term\n",
    "    - vac_size_1 \n",
    "    - vac_size_2\n",
    "    - vac_size_3\n",
    "    - vac_size_4\n",
    "    - vac_size_5\n",
    "- 03_term\n",
    "    - vac_size_1 \n",
    "    - vac_size_2\n",
    "    - vac_size_3\n",
    "    - vac_size_4\n",
    "    - vac_size_5\n",
    "- 04_term\n",
    "    - vac_size_1 \n",
    "    - vac_size_2\n",
    "    - vac_size_3\n",
    "    - vac_size_4\n",
    "    - vac_size_5\n",
    "\n",
    "### 010_facet\n",
    "- 01_term\n",
    "    - vac_size_1 \n",
    "    - vac_size_2\n",
    "    - vac_size_3\n",
    "    - vac_size_4\n",
    "    - vac_size_5\n",
    "- 02_term\n",
    "    - vac_size_1 \n",
    "    - vac_size_2\n",
    "    - vac_size_3\n",
    "    - vac_size_4\n",
    "    - vac_size_5\n",
    "- 03_term\n",
    "    - vac_size_1 \n",
    "    - vac_size_2\n",
    "    - vac_size_3\n",
    "    - vac_size_4\n",
    "    - vac_size_5\n",
    "- 04_term\n",
    "    - vac_size_1 \n",
    "    - vac_size_2\n",
    "    - vac_size_3\n",
    "    - vac_size_4\n",
    "    - vac_size_5\n",
    "- 05_term\n",
    "    - vac_size_1 \n",
    "    - vac_size_2\n",
    "    - vac_size_3\n",
    "    - vac_size_4\n",
    "    - vac_size_5\n",
    "- 06_term\n",
    "    - vac_size_1 \n",
    "    - vac_size_2\n",
    "    - vac_size_3\n",
    "    - vac_size_4\n",
    "    - vac_size_5\n",
    "- 07_term\n",
    "    - vac_size_1 \n",
    "    - vac_size_2\n",
    "    - vac_size_3\n",
    "    - vac_size_4\n",
    "    - vac_size_5\n",
    "\n",
    "### 100_facet\n",
    "- 01_term\n",
    "    - vac_size_1 \n",
    "    - vac_size_2\n",
    "    - vac_size_3\n",
    "    - vac_size_4\n",
    "    - vac_size_5\n",
    "- 02_term\n",
    "    - vac_size_1 \n",
    "    - vac_size_2\n",
    "    - vac_size_3\n",
    "    - vac_size_4\n",
    "    - vac_size_5\n",
    "- 03_term\n",
    "    - vac_size_1 \n",
    "    - vac_size_2\n",
    "    - vac_size_3\n",
    "    - vac_size_4\n",
    "    - vac_size_5\n",
    "- 04_term\n",
    "    - vac_size_1 \n",
    "    - vac_size_2\n",
    "    - vac_size_3\n",
    "    - vac_size_4\n",
    "    - vac_size_5\n",
    "- 05_term\n",
    "    - vac_size_1 \n",
    "    - vac_size_2\n",
    "    - vac_size_3\n",
    "    - vac_size_4\n",
    "    - vac_size_5\n",
    "\n",
    "### 011_facet\n",
    "- 01_term\n",
    "    - vac_size_1 \n",
    "    - vac_size_2\n",
    "    - vac_size_3\n",
    "    - vac_size_4\n",
    "    - vac_size_5\n",
    "- 02_term\n",
    "    - vac_size_1 \n",
    "    - vac_size_2\n",
    "    - vac_size_3\n",
    "    - vac_size_4\n",
    "    - vac_size_5\n",
    "- 03_term\n",
    "    - vac_size_1 \n",
    "    - vac_size_2\n",
    "    - vac_size_3\n",
    "    - vac_size_4\n",
    "    - vac_size_5\n",
    "- 04_term\n",
    "    - vac_size_1 \n",
    "    - vac_size_2\n",
    "    - vac_size_3\n",
    "    - vac_size_4\n",
    "    - vac_size_5\n",
    "- 05_term\n",
    "    - vac_size_1 \n",
    "    - vac_size_2\n",
    "    - vac_size_3\n",
    "    - vac_size_4\n",
    "    - vac_size_5\n",
    "- 06_term\n",
    "    - vac_size_1 \n",
    "    - vac_size_2\n",
    "    - vac_size_3\n",
    "    - vac_size_4\n",
    "    - vac_size_5\n",
    "\n",
    "### 101_facet\n",
    "- 01_term\n",
    "    - vac_size_1 \n",
    "    - vac_size_2\n",
    "    - vac_size_3\n",
    "    - vac_size_4\n",
    "    - vac_size_5\n",
    "- 02_term\n",
    "    - vac_size_1 \n",
    "    - vac_size_2\n",
    "    - vac_size_3\n",
    "    - vac_size_4\n",
    "    - vac_size_5\n",
    "- 03_term\n",
    "    - vac_size_1 \n",
    "    - vac_size_2\n",
    "    - vac_size_3\n",
    "    - vac_size_4\n",
    "    - vac_size_5\n",
    "- 04_term\n",
    "    - vac_size_1 \n",
    "    - vac_size_2\n",
    "    - vac_size_3\n",
    "    - vac_size_4\n",
    "    - vac_size_5\n",
    "- 05_term\n",
    "    - vac_size_1 \n",
    "    - vac_size_2\n",
    "    - vac_size_3\n",
    "    - vac_size_4\n",
    "    - vac_size_5\n",
    "- 06_term\n",
    "    - vac_size_1 \n",
    "    - vac_size_2\n",
    "    - vac_size_3\n",
    "    - vac_size_4\n",
    "    - vac_size_5\n",
    "- 07_term\n",
    "    - vac_size_1 \n",
    "    - vac_size_2\n",
    "    - vac_size_3\n",
    "    - vac_size_4\n",
    "    - vac_size_5\n",
    "\n",
    "### 110_facet\n",
    "- 01_term\n",
    "    - vac_size_1 \n",
    "    - vac_size_2\n",
    "    - vac_size_3\n",
    "    - vac_size_4\n",
    "    - vac_size_5\n",
    "- 02_term\n",
    "    - vac_size_1 \n",
    "    - vac_size_2\n",
    "    - vac_size_3\n",
    "    - vac_size_4\n",
    "    - vac_size_5\n",
    "- 03_term\n",
    "    - vac_size_1 \n",
    "    - vac_size_2\n",
    "    - vac_size_3\n",
    "    - vac_size_4\n",
    "    - vac_size_5\n",
    "- 04_term\n",
    "    - vac_size_1 \n",
    "    - vac_size_2\n",
    "    - vac_size_3\n",
    "    - vac_size_4\n",
    "    - vac_size_5\n",
    "- 05_term\n",
    "    - vac_size_1 \n",
    "    - vac_size_2\n",
    "    - vac_size_3\n",
    "    - vac_size_4\n",
    "    - vac_size_5\n",
    "- 06_term\n",
    "    - vac_size_1 \n",
    "    - vac_size_2\n",
    "    - vac_size_3\n",
    "    - vac_size_4\n",
    "    - vac_size_5\n",
    "\n",
    "### 111_facet\n",
    "- 01_term\n",
    "    - vac_size_1 \n",
    "    - vac_size_2\n",
    "    - vac_size_3\n",
    "    - vac_size_4\n",
    "    - vac_size_5\n",
    "- 02_term\n",
    "    - vac_size_1 \n",
    "    - vac_size_2\n",
    "    - vac_size_3\n",
    "    - vac_size_4\n",
    "    - vac_size_5\n",
    "- 03_term\n",
    "    - vac_size_1 \n",
    "    - vac_size_2\n",
    "    - vac_size_3\n",
    "    - vac_size_4\n",
    "    - vac_size_5\n",
    "- 04_term\n",
    "    - vac_size_1 \n",
    "    - vac_size_2\n",
    "    - vac_size_3\n",
    "    - vac_size_4\n",
    "    - vac_size_5\n",
    "- 05_term\n",
    "    - vac_size_1 \n",
    "    - vac_size_2\n",
    "    - vac_size_3\n",
    "    - vac_size_4\n",
    "    - vac_size_5\n",
    "- 06_term\n",
    "    - vac_size_1 \n",
    "    - vac_size_2\n",
    "    - vac_size_3\n",
    "    - vac_size_4\n",
    "    - vac_size_5\n",
    "- 07_term\n",
    "    - vac_size_1 \n",
    "    - vac_size_2\n",
    "    - vac_size_3\n",
    "    - vac_size_4\n",
    "    - vac_size_5\n",
    "- 08_term\n",
    "    - vac_size_1 \n",
    "    - vac_size_2\n",
    "    - vac_size_3\n",
    "    - vac_size_4\n",
    "    - vac_size_5"
   ]
  },
  {
   "cell_type": "code",
   "execution_count": 13,
   "metadata": {},
   "outputs": [
    {
     "name": "stdout",
     "output_type": "stream",
     "text": [
      "Cell([[5.727564927611035, 0.0, 0.0], [2.8637824638055176, 4.960216729135935, 0.0], [0.0, 0.0, 24.676537180435968]])\n",
      "Cell([[5.727564927611035, 0.0, 0.0], [2.8637824638055176, 4.960216729135935, 0.0], [0.0, 0.0, 25.676537180435968]])\n"
     ]
    }
   ],
   "source": [
    "from ase.io import read, write\n",
    "from ase.build import surface\n",
    "from ase.io.vasp import write_vasp\n",
    "\n",
    "bulk = read(\"/Users/eyob/Desktop/lab/cctm/kinetic_modeling/catio3_surface_kinetics/vasp/surface_relax/convergence_test/vacuum/001/1_term/pre_relax/001_1_term_vac_23.10.POSCAR\")\n",
    "slab = surface(bulk, (0, 0, 1), layers=3, vacuum=10.0)\n",
    "slab.center(vacuum=10.0, axis=2)\n",
    "# write_vasp(\"test10.vasp\", slab, direct=False)\n",
    "print(slab.cell)\n",
    "\n",
    "slab1 = surface(bulk, (0, 0, 1), layers=3, vacuum=10.5)\n",
    "slab1.center(vacuum=10.5, axis=2)\n",
    "# write_vasp(\"test11.vasp\", slab1, direct=False)\n",
    "print(slab1.cell)"
   ]
  },
  {
   "cell_type": "code",
   "execution_count": 40,
   "metadata": {},
   "outputs": [
    {
     "ename": "AttributeError",
     "evalue": "'Poscar' object has no attribute 'get_scene'",
     "output_type": "error",
     "traceback": [
      "\u001b[0;31m---------------------------------------------------------------------------\u001b[0m",
      "\u001b[0;31mAttributeError\u001b[0m                            Traceback (most recent call last)",
      "File \u001b[0;32m~/Library/Python/3.9/lib/python/site-packages/IPython/core/formatters.py:922\u001b[0m, in \u001b[0;36mIPythonDisplayFormatter.__call__\u001b[0;34m(self, obj)\u001b[0m\n\u001b[1;32m    920\u001b[0m method \u001b[38;5;241m=\u001b[39m get_real_method(obj, \u001b[38;5;28mself\u001b[39m\u001b[38;5;241m.\u001b[39mprint_method)\n\u001b[1;32m    921\u001b[0m \u001b[38;5;28;01mif\u001b[39;00m method \u001b[38;5;129;01mis\u001b[39;00m \u001b[38;5;129;01mnot\u001b[39;00m \u001b[38;5;28;01mNone\u001b[39;00m:\n\u001b[0;32m--> 922\u001b[0m     \u001b[43mmethod\u001b[49m\u001b[43m(\u001b[49m\u001b[43m)\u001b[49m\n\u001b[1;32m    923\u001b[0m     \u001b[38;5;28;01mreturn\u001b[39;00m \u001b[38;5;28;01mTrue\u001b[39;00m\n",
      "File \u001b[0;32m~/Library/Python/3.9/lib/python/site-packages/crystal_toolkit/core/jupyter.py:120\u001b[0m, in \u001b[0;36m_ipython_display_\u001b[0;34m(self)\u001b[0m\n\u001b[1;32m    113\u001b[0m     \u001b[38;5;28;01mreturn\u001b[39;00m _JupyterRenderer()\u001b[38;5;241m.\u001b[39mdisplay(\u001b[38;5;28mself\u001b[39m)\n\u001b[1;32m    115\u001b[0m \u001b[38;5;66;03m# To be strict here, we could use inspect.signature\u001b[39;00m\n\u001b[1;32m    116\u001b[0m \u001b[38;5;66;03m# and .return_annotation is either a Scene or a go.Figure respectively\u001b[39;00m\n\u001b[1;32m    117\u001b[0m \u001b[38;5;66;03m# and also check all .parameters .kind.name have no POSITIONAL_ONLY\u001b[39;00m\n\u001b[1;32m    118\u001b[0m \u001b[38;5;66;03m# in practice, fairly unlikely this will cause issues without strict checking.\u001b[39;00m\n\u001b[1;32m    119\u001b[0m \u001b[38;5;66;03m# TODO: This can be removed once a central registry of renderable objects is implemented.\u001b[39;00m\n\u001b[0;32m--> 120\u001b[0m \u001b[38;5;28;01mif\u001b[39;00m \u001b[38;5;28;43mself\u001b[39;49m\u001b[38;5;241;43m.\u001b[39;49m\u001b[43mget_scene\u001b[49m:\n\u001b[1;32m    121\u001b[0m     display_data \u001b[38;5;241m=\u001b[39m {\n\u001b[1;32m    122\u001b[0m         \u001b[38;5;124m\"\u001b[39m\u001b[38;5;124mapplication/vnd.mp.ctk+json\u001b[39m\u001b[38;5;124m\"\u001b[39m: \u001b[38;5;28mself\u001b[39m\u001b[38;5;241m.\u001b[39mget_scene()\u001b[38;5;241m.\u001b[39mto_json(),\n\u001b[1;32m    123\u001b[0m         \u001b[38;5;124m\"\u001b[39m\u001b[38;5;124mtext/plain\u001b[39m\u001b[38;5;124m\"\u001b[39m: \u001b[38;5;28mrepr\u001b[39m(\u001b[38;5;28mself\u001b[39m),\n\u001b[1;32m    124\u001b[0m     }\n\u001b[1;32m    125\u001b[0m \u001b[38;5;28;01melif\u001b[39;00m \u001b[38;5;28mself\u001b[39m\u001b[38;5;241m.\u001b[39mget_plot:\n",
      "\u001b[0;31mAttributeError\u001b[0m: 'Poscar' object has no attribute 'get_scene'"
     ]
    },
    {
     "data": {
      "application/json": {
       "@class": "Poscar",
       "@module": "pymatgen.io.vasp.inputs",
       "comment": "Ca4 Ti4 O12",
       "predictor_corrector": null,
       "selective_dynamics": null,
       "structure": {
        "@class": "Structure",
        "@module": "pymatgen.core.structure",
        "charge": 0,
        "lattice": {
         "a": 5.40982608935152,
         "alpha": 90,
         "b": 5.516705924128176,
         "beta": 90,
         "c": 7.700753419465185,
         "gamma": 90,
         "matrix": [
          [
           5.40982608935152,
           0,
           3.312563102134091e-16
          ],
          [
           -3.378008125910406e-16,
           5.516705924128176,
           3.378008125910406e-16
          ],
          [
           0,
           0,
           7.700753419465185
          ]
         ],
         "pbc": [
          true,
          true,
          true
         ],
         "volume": 229.82451656102154
        },
        "properties": {},
        "sites": [
         {
          "abc": [
           0.5095964104711976,
           0.5446712302292928,
           0.7290810466965802
          ],
          "label": "Ca",
          "properties": {
           "bulk_equivalent": 0,
           "bulk_wyckoff": "c"
          },
          "species": [
           {
            "element": "Ca",
            "occu": 1
           }
          ],
          "xyz": [
           2.756827956406971,
           3.004791002508121,
           5.6144733634159465
          ]
         },
         {
          "abc": [
           0.4904035895288024,
           0.45532876977070746,
           0.22908104669658005
          ],
          "label": "Ca",
          "properties": {
           "bulk_equivalent": 0,
           "bulk_wyckoff": "c"
          },
          "species": [
           {
            "element": "Ca",
            "occu": 1
           }
          ],
          "xyz": [
           2.652998132944549,
           2.5119149216200563,
           1.7640966536833529
          ]
         },
         {
          "abc": [
           0.9904035895288024,
           0.0446712302292926,
           0.7290810466965802
          ],
          "label": "Ca",
          "properties": {
           "bulk_equivalent": 0,
           "bulk_wyckoff": "c"
          },
          "species": [
           {
            "element": "Ca",
            "occu": 1
           }
          ],
          "xyz": [
           5.357911177620308,
           0.2464380404440321,
           5.6144733634159465
          ]
         },
         {
          "abc": [
           0.009596410471197601,
           0.9553287697707074,
           0.22908104669658005
          ],
          "label": "Ca",
          "properties": {
           "bulk_equivalent": 0,
           "bulk_wyckoff": "c"
          },
          "species": [
           {
            "element": "Ca",
            "occu": 1
           }
          ],
          "xyz": [
           0.05191491173121057,
           5.270267883684143,
           1.7640966536833529
          ]
         },
         {
          "abc": [
           0.0796361489488385,
           0.479698217908142,
           0.7290810466965802
          ],
          "label": "O",
          "properties": {
           "bulk_equivalent": 8,
           "bulk_wyckoff": "c"
          },
          "species": [
           {
            "element": "O",
            "occu": 1
           }
          ],
          "xyz": [
           0.43081771623890996,
           2.6463540005275754,
           5.6144733634159465
          ]
         },
         {
          "abc": [
           0.9203638510511615,
           0.520301782091858,
           0.22908104669658005
          ],
          "label": "O",
          "properties": {
           "bulk_equivalent": 8,
           "bulk_wyckoff": "c"
          },
          "species": [
           {
            "element": "O",
            "occu": 1
           }
          ],
          "xyz": [
           4.97900837311261,
           2.8703519236006,
           1.764096653683353
          ]
         },
         {
          "abc": [
           0.4203638510511615,
           0.979698217908142,
           0.72908104669658
          ],
          "label": "O",
          "properties": {
           "bulk_equivalent": 8,
           "bulk_wyckoff": "c"
          },
          "species": [
           {
            "element": "O",
            "occu": 1
           }
          ],
          "xyz": [
           2.2740953284368493,
           5.404706962591663,
           5.614473363415946
          ]
         },
         {
          "abc": [
           0.5796361489488385,
           0.020301782091858,
           0.22908104669658005
          ],
          "label": "O",
          "properties": {
           "bulk_equivalent": 8,
           "bulk_wyckoff": "c"
          },
          "species": [
           {
            "element": "O",
            "occu": 1
           }
          ],
          "xyz": [
           3.13573076091467,
           0.11199896153651234,
           1.7640966536833527
          ]
         },
         {
          "abc": [
           0.7915017555679251,
           0.7907105816721134,
           0.9372431400897403
          ],
          "label": "O",
          "properties": {
           "bulk_equivalent": 12,
           "bulk_wyckoff": "d"
          },
          "species": [
           {
            "element": "O",
            "occu": 1
           }
          ],
          "xyz": [
           4.281886847038891,
           4.362117750181383,
           7.217478315916355
          ]
         },
         {
          "abc": [
           0.2084982444320749,
           0.20928941832787953,
           0.4372431400897403
          ],
          "label": "O",
          "properties": {
           "bulk_equivalent": 12,
           "bulk_wyckoff": "d"
          },
          "species": [
           {
            "element": "O",
            "occu": 1
           }
          ],
          "xyz": [
           1.127939242312629,
           1.154588173946753,
           3.3671016061837626
          ]
         },
         {
          "abc": [
           0.2084982444320749,
           0.20928941832787953,
           0.020918953303419936
          ],
          "label": "O",
          "properties": {
           "bulk_equivalent": 12,
           "bulk_wyckoff": "d"
          },
          "species": [
           {
            "element": "O",
            "occu": 1
           }
          ],
          "xyz": [
           1.127939242312629,
           1.154588173946753,
           0.16109170118294375
          ]
         },
         {
          "abc": [
           0.7915017555679251,
           0.7907105816721134,
           0.5209189533034198
          ],
          "label": "O",
          "properties": {
           "bulk_equivalent": 12,
           "bulk_wyckoff": "d"
          },
          "species": [
           {
            "element": "O",
            "occu": 1
           }
          ],
          "xyz": [
           4.281886847038891,
           4.362117750181383,
           4.011468410915535
          ]
         },
         {
          "abc": [
           0.7084982444320749,
           0.2907105816721134,
           0.9372431400897403
          ],
          "label": "O",
          "properties": {
           "bulk_equivalent": 12,
           "bulk_wyckoff": "d"
          },
          "species": [
           {
            "element": "O",
            "occu": 1
           }
          ],
          "xyz": [
           3.832852286988389,
           1.6037647881172958,
           7.217478315916355
          ]
         },
         {
          "abc": [
           0.2915017555679251,
           0.7092894183278796,
           0.4372431400897403
          ],
          "label": "O",
          "properties": {
           "bulk_equivalent": 12,
           "bulk_wyckoff": "d"
          },
          "species": [
           {
            "element": "O",
            "occu": 1
           }
          ],
          "xyz": [
           1.5769738023631308,
           3.9129411360108413,
           3.367101606183763
          ]
         },
         {
          "abc": [
           0.2915017555679251,
           0.7092894183278796,
           0.020918953303419936
          ],
          "label": "O",
          "properties": {
           "bulk_equivalent": 12,
           "bulk_wyckoff": "d"
          },
          "species": [
           {
            "element": "O",
            "occu": 1
           }
          ],
          "xyz": [
           1.5769738023631308,
           3.9129411360108413,
           0.16109170118294394
          ]
         },
         {
          "abc": [
           0.7084982444320749,
           0.2907105816721134,
           0.5209189533034198
          ],
          "label": "O",
          "properties": {
           "bulk_equivalent": 12,
           "bulk_wyckoff": "d"
          },
          "species": [
           {
            "element": "O",
            "occu": 1
           }
          ],
          "xyz": [
           3.832852286988389,
           1.6037647881172958,
           4.011468410915535
          ]
         },
         {
          "abc": [
           8.968571269142098e-34,
           0.5,
           0.47908104669658
          ],
          "label": "Ti",
          "properties": {
           "bulk_equivalent": 4,
           "bulk_wyckoff": "b"
          },
          "species": [
           {
            "element": "Ti",
            "occu": 1
           }
          ],
          "xyz": [
           -1.689004062955203e-16,
           2.758352962064088,
           3.689285008549649
          ]
         },
         {
          "abc": [
           8.968571269142098e-34,
           0.5,
           0.9790810466965802
          ],
          "label": "Ti",
          "properties": {
           "bulk_equivalent": 4,
           "bulk_wyckoff": "b"
          },
          "species": [
           {
            "element": "Ti",
            "occu": 1
           }
          ],
          "xyz": [
           -1.689004062955203e-16,
           2.758352962064088,
           7.539661718282243
          ]
         },
         {
          "abc": [
           0.5,
           0,
           0.47908104669658
          ],
          "label": "Ti",
          "properties": {
           "bulk_equivalent": 4,
           "bulk_wyckoff": "b"
          },
          "species": [
           {
            "element": "Ti",
            "occu": 1
           }
          ],
          "xyz": [
           2.70491304467576,
           0,
           3.689285008549649
          ]
         },
         {
          "abc": [
           0.5,
           0,
           0.9790810466965802
          ],
          "label": "Ti",
          "properties": {
           "bulk_equivalent": 4,
           "bulk_wyckoff": "b"
          },
          "species": [
           {
            "element": "Ti",
            "occu": 1
           }
          ],
          "xyz": [
           2.70491304467576,
           0,
           7.539661718282243
          ]
         }
        ]
       },
       "true_names": true,
       "velocities": null
      },
      "text/plain": [
       "Ca4 Ti4 O12\n",
       "1.0\n",
       "   5.4098260893515198    0.0000000000000000    0.0000000000000003\n",
       "  -0.0000000000000003    5.5167059241281757    0.0000000000000003\n",
       "   0.0000000000000000    0.0000000000000000    7.7007534194651850\n",
       "Ca O Ti\n",
       "4 12 4\n",
       "direct\n",
       "   0.5095964104711976    0.5446712302292928    0.7290810466965802 Ca\n",
       "   0.4904035895288024    0.4553287697707075    0.2290810466965801 Ca\n",
       "   0.9904035895288024    0.0446712302292926    0.7290810466965802 Ca\n",
       "   0.0095964104711976    0.9553287697707074    0.2290810466965801 Ca\n",
       "   0.0796361489488385    0.4796982179081420    0.7290810466965802 O\n",
       "   0.9203638510511615    0.5203017820918580    0.2290810466965801 O\n",
       "   0.4203638510511615    0.9796982179081420    0.7290810466965800 O\n",
       "   0.5796361489488385    0.0203017820918580    0.2290810466965801 O\n",
       "   0.7915017555679251    0.7907105816721134    0.9372431400897403 O\n",
       "   0.2084982444320749    0.2092894183278795    0.4372431400897403 O\n",
       "   0.2084982444320749    0.2092894183278795    0.0209189533034199 O\n",
       "   0.7915017555679251    0.7907105816721134    0.5209189533034198 O\n",
       "   0.7084982444320749    0.2907105816721134    0.9372431400897403 O\n",
       "   0.2915017555679251    0.7092894183278796    0.4372431400897403 O\n",
       "   0.2915017555679251    0.7092894183278796    0.0209189533034199 O\n",
       "   0.7084982444320749    0.2907105816721134    0.5209189533034198 O\n",
       "   0.0000000000000000    0.5000000000000000    0.4790810466965800 Ti\n",
       "   0.0000000000000000    0.5000000000000000    0.9790810466965802 Ti\n",
       "   0.5000000000000000    0.0000000000000000    0.4790810466965800 Ti\n",
       "   0.5000000000000000    0.0000000000000000    0.9790810466965802 Ti\n"
      ]
     },
     "execution_count": 40,
     "metadata": {},
     "output_type": "execute_result"
    }
   ],
   "source": [
    "template"
   ]
  },
  {
   "cell_type": "code",
   "execution_count": null,
   "metadata": {},
   "outputs": [],
   "source": []
  }
 ],
 "metadata": {
  "kernelspec": {
   "display_name": "Python 3",
   "language": "python",
   "name": "python3"
  },
  "language_info": {
   "codemirror_mode": {
    "name": "ipython",
    "version": 3
   },
   "file_extension": ".py",
   "mimetype": "text/x-python",
   "name": "python",
   "nbconvert_exporter": "python",
   "pygments_lexer": "ipython3",
   "version": "3.9.6"
  }
 },
 "nbformat": 4,
 "nbformat_minor": 2
}
