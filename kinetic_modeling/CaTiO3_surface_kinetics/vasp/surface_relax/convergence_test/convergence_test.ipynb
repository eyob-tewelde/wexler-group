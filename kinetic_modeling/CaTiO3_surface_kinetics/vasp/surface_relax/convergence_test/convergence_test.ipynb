{
 "cells": [
  {
   "cell_type": "code",
   "execution_count": 2,
   "metadata": {},
   "outputs": [],
   "source": [
    "from pymatgen.ext.matproj import MPRester\n",
    "from pymatgen.core import Structure\n",
    "from pymatgen.io.vasp.outputs import Oszicar, Outcar, Vasprun\n",
    "from pymatgen.core.surface import SlabGenerator\n",
    "from pymatgen.analysis.surface_analysis import get_slab_regions\n",
    "import slab_functions as sf\n",
    "import numpy as np\n",
    "import crystal_toolkit"
   ]
  },
  {
   "cell_type": "code",
   "execution_count": 3,
   "metadata": {},
   "outputs": [
    {
     "name": "stdout",
     "output_type": "stream",
     "text": [
      "Full Formula (Ca4 Ti4 O12)\n",
      "Reduced Formula: CaTiO3\n",
      "abc   :   5.409826   5.516706   7.700753\n",
      "angles:  90.000000  90.000000  90.000000\n",
      "pbc   :       True       True       True\n",
      "Sites (20)\n",
      "  #  SP            a         b         c\n",
      "---  ----  ---------  --------  --------\n",
      "  0  Ca     0.509596  0.544671  0.75\n",
      "  1  Ca     0.490404  0.455329  0.25\n",
      "  2  Ca     0.990404  0.044671  0.75\n",
      "  3  Ca     0.009596  0.955329  0.25\n",
      "  4  Ti    -0         0.5       0.5\n",
      "  5  Ti     0         0.5       0\n",
      "  6  Ti     0.5       0         0.5\n",
      "  7  Ti     0.5       0         0\n",
      "  8  O      0.079636  0.479698  0.75\n",
      "  9  O      0.920364  0.520302  0.25\n",
      " 10  O      0.420364  0.979698  0.75\n",
      " 11  O      0.579636  0.020302  0.25\n",
      " 12  O      0.791502  0.790711  0.958162\n",
      " 13  O      0.208498  0.209289  0.458162\n",
      " 14  O      0.208498  0.209289  0.041838\n",
      " 15  O      0.791502  0.790711  0.541838\n",
      " 16  O      0.708498  0.290711  0.958162\n",
      " 17  O      0.291502  0.709289  0.458162\n",
      " 18  O      0.291502  0.709289  0.041838\n",
      " 19  O      0.708498  0.290711  0.541838\n"
     ]
    },
    {
     "name": "stderr",
     "output_type": "stream",
     "text": [
      "/Users/eyob/Library/Python/3.9/lib/python/site-packages/pymatgen/core/structure.py:3083: EncodingWarning: We strongly encourage explicit `encoding`, and we would use UTF-8 by default as per PEP 686\n",
      "  with zopen(filename, mode=\"rt\", errors=\"replace\") as file:\n"
     ]
    }
   ],
   "source": [
    "# Import bulk-relaxed CaTiO3\n",
    "\n",
    "bulk_relaxed_CONTAR = Structure.from_file(\"bulk_relaxed_CONTCAR\")\n",
    "print(bulk_relaxed_CONTAR)"
   ]
  },
  {
   "cell_type": "markdown",
   "metadata": {},
   "source": [
    "# Test vacuum convergence script"
   ]
  },
  {
   "cell_type": "code",
   "execution_count": 4,
   "metadata": {},
   "outputs": [],
   "source": [
    "# sf.vac_converge(bulk_relaxed_CONTAR, (0,0,1), 35)"
   ]
  },
  {
   "cell_type": "code",
   "execution_count": 5,
   "metadata": {},
   "outputs": [],
   "source": [
    "# sf.vac_converge(bulk_relaxed_CONTAR, (0,1,0), 35)"
   ]
  },
  {
   "cell_type": "code",
   "execution_count": 6,
   "metadata": {},
   "outputs": [],
   "source": [
    "# sf.vac_converge(bulk_relaxed_CONTAR, (1,0,0), 35)"
   ]
  },
  {
   "cell_type": "code",
   "execution_count": 7,
   "metadata": {},
   "outputs": [],
   "source": [
    "# sf.vac_converge(bulk_relaxed_CONTAR, (1,1,0), 35)"
   ]
  },
  {
   "cell_type": "code",
   "execution_count": 8,
   "metadata": {},
   "outputs": [],
   "source": [
    "# sf.vac_converge(bulk_relaxed_CONTAR, (1,0,1), 35)"
   ]
  },
  {
   "cell_type": "code",
   "execution_count": 9,
   "metadata": {},
   "outputs": [],
   "source": [
    "# sf.vac_converge(bulk_relaxed_CONTAR, (0,1,1), 35)"
   ]
  },
  {
   "cell_type": "code",
   "execution_count": 10,
   "metadata": {},
   "outputs": [],
   "source": [
    "# sf.vac_converge(bulk_relaxed_CONTAR, (1,1,1), 35)"
   ]
  },
  {
   "cell_type": "markdown",
   "metadata": {},
   "source": [
    "### file generation script worked #epic\n",
    "\n",
    "but I probably didn't need to generate that many files"
   ]
  },
  {
   "cell_type": "markdown",
   "metadata": {},
   "source": [
    "# Import relaxed CaTiO3 slabs for different vacuum sizes"
   ]
  },
  {
   "cell_type": "markdown",
   "metadata": {},
   "source": [
    "### Import slabs for 001 surface"
   ]
  },
  {
   "cell_type": "code",
   "execution_count": 11,
   "metadata": {},
   "outputs": [
    {
     "name": "stdout",
     "output_type": "stream",
     "text": [
      "Full Formula (Ca6 Ti8 O22)\n",
      "Reduced Formula: Ca3Ti4O11\n",
      "abc   :   5.409826   5.516706  23.102260\n",
      "angles:  90.000000  90.000000  90.000000\n",
      "pbc   :       True       True       True\n",
      "Sites (36)\n",
      "  #  SP           a         b         c\n",
      "---  ----  --------  --------  --------\n",
      "  0  Ca2+  0.509596  0.544671  0.20136\n",
      "  1  Ca2+  0.990404  0.044671  0.20136\n",
      "  2  Ti4+  0         0.5       0.118027\n",
      "  3  Ti4+  0         0.5       0.284694\n",
      "  4  Ti4+  0.5       0         0.118027\n",
      "  5  Ti4+  0.5       0         0.284694\n",
      "  6  O2-   0.079636  0.479698  0.20136\n",
      "  7  O2-   0.420364  0.979698  0.20136\n",
      "  8  O2-   0.791502  0.790711  0.270748\n",
      "  9  O2-   0.208498  0.209289  0.104081\n",
      " 10  O2-   0.208498  0.209289  0.29864\n",
      " 11  O2-   0.791502  0.790711  0.131973\n",
      " 12  O2-   0.708498  0.290711  0.270748\n",
      " 13  O2-   0.291502  0.709289  0.104081\n",
      " 14  O2-   0.291502  0.709289  0.29864\n",
      " 15  O2-   0.708498  0.290711  0.131973\n",
      " 16  Ca2+  0.509596  0.544671  0.534694\n",
      " 17  Ca2+  0.490404  0.455329  0.368027\n",
      " 18  Ca2+  0.990404  0.044671  0.534694\n",
      " 19  Ca2+  0.009596  0.955329  0.368027\n",
      " 20  Ti4+  0         0.5       0.45136\n",
      " 21  Ti4+  0         0.5       0.618027\n",
      " 22  Ti4+  0.5       0         0.45136\n",
      " 23  Ti4+  0.5       0         0.618027\n",
      " 24  O2-   0.079636  0.479698  0.534694\n",
      " 25  O2-   0.920364  0.520302  0.368027\n",
      " 26  O2-   0.420364  0.979698  0.534694\n",
      " 27  O2-   0.579636  0.020302  0.368027\n",
      " 28  O2-   0.791502  0.790711  0.604081\n",
      " 29  O2-   0.208498  0.209289  0.437414\n",
      " 30  O2-   0.208498  0.209289  0.631973\n",
      " 31  O2-   0.791502  0.790711  0.465306\n",
      " 32  O2-   0.708498  0.290711  0.604081\n",
      " 33  O2-   0.291502  0.709289  0.437414\n",
      " 34  O2-   0.291502  0.709289  0.631973\n",
      " 35  O2-   0.708498  0.290711  0.465306\n"
     ]
    }
   ],
   "source": [
    "# Import slabs for the first termination\n",
    "\n",
    "# c = 23.10 (v1)\n",
    "\n",
    "# Pre-relaxation\n",
    "pre_v1_001 = Structure.from_file(\"001_v1_POSCAR\")\n",
    "pre_v1_001.add_oxidation_state_by_element({\"Ca\":2, \"Ti\":4, \"O\":-2})\n",
    "print(pre_v1_001)"
   ]
  },
  {
   "cell_type": "code",
   "execution_count": 12,
   "metadata": {},
   "outputs": [
    {
     "name": "stdout",
     "output_type": "stream",
     "text": [
      "Full Formula (Ca6 Ti8 O22)\n",
      "Reduced Formula: Ca3Ti4O11\n",
      "abc   :   5.409826   5.516706  23.102260\n",
      "angles:  90.000000  90.000000  90.000000\n",
      "pbc   :       True       True       True\n",
      "Sites (36)\n",
      "  #  SP            a          b         c\n",
      "---  ----  ---------  ---------  --------\n",
      "  0  Ca2+   0.520782   0.538135  0.194285\n",
      "  1  Ca2+   0.979218   0.038135  0.194285\n",
      "  2  Ti4+   0.018796   0.519086  0.122569\n",
      "  3  Ti4+  -0.00122    0.495784  0.28589\n",
      "  4  Ti4+   0.481204   0.019086  0.122569\n",
      "  5  Ti4+   0.50122   -0.004216  0.28589\n",
      "  6  O2-    0.083831   0.483363  0.201423\n",
      "  7  O2-    0.416169   0.983363  0.201423\n",
      "  8  O2-    0.790803   0.791629  0.270625\n",
      "  9  O2-    0.216098   0.215272  0.107183\n",
      " 10  O2-    0.210322   0.213185  0.299692\n",
      " 11  O2-    0.776682   0.767011  0.129707\n",
      " 12  O2-    0.709197   0.291629  0.270625\n",
      " 13  O2-    0.283902   0.715272  0.107183\n",
      " 14  O2-    0.289678   0.713185  0.299692\n",
      " 15  O2-    0.723318   0.267011  0.129707\n",
      " 16  Ca2+   0.521584   0.536624  0.541897\n",
      " 17  Ca2+   0.487908   0.457765  0.368195\n",
      " 18  Ca2+   0.978416   0.036624  0.541897\n",
      " 19  Ca2+   0.012092   0.957765  0.368195\n",
      " 20  Ti4+  -0.001088   0.495534  0.450571\n",
      " 21  Ti4+   0.020349   0.521306  0.613168\n",
      " 22  Ti4+   0.501088  -0.004466  0.450571\n",
      " 23  Ti4+   0.479651   0.021306  0.613168\n",
      " 24  O2-    0.081687   0.484466  0.534595\n",
      " 25  O2-    0.919847   0.520293  0.368205\n",
      " 26  O2-    0.418313   0.984466  0.534595\n",
      " 27  O2-    0.580153   0.020293  0.368205\n",
      " 28  O2-    0.776471   0.764904  0.606337\n",
      " 29  O2-    0.211503   0.214316  0.436776\n",
      " 30  O2-    0.219623   0.215408  0.627997\n",
      " 31  O2-    0.789055   0.790288  0.465372\n",
      " 32  O2-    0.723529   0.264904  0.606337\n",
      " 33  O2-    0.288497   0.714316  0.436776\n",
      " 34  O2-    0.280377   0.715408  0.627997\n",
      " 35  O2-    0.710945   0.290288  0.465372\n"
     ]
    }
   ],
   "source": [
    "# Post-relaxation\n",
    "post_v1_001 = Structure.from_file(\"001_v1_CONTCAR\")\n",
    "post_v1_001.add_oxidation_state_by_element({\"Ca\":2, \"Ti\":4, \"O\":-2})\n",
    "print(post_v1_001)"
   ]
  },
  {
   "cell_type": "code",
   "execution_count": 17,
   "metadata": {},
   "outputs": [
    {
     "data": {
      "text/plain": [
       "689.4735496830646"
      ]
     },
     "execution_count": 17,
     "metadata": {},
     "output_type": "execute_result"
    }
   ],
   "source": [
    "pre_v1_001.volume == post_v1_001.volume\n",
    "pre_v1_001.volume"
   ]
  },
  {
   "cell_type": "code",
   "execution_count": 14,
   "metadata": {},
   "outputs": [
    {
     "data": {
      "text/plain": [
       "True"
      ]
     },
     "execution_count": 14,
     "metadata": {},
     "output_type": "execute_result"
    }
   ],
   "source": [
    "pre_v1_001.density == post_v1_001.density"
   ]
  }
 ],
 "metadata": {
  "kernelspec": {
   "display_name": "Python 3",
   "language": "python",
   "name": "python3"
  },
  "language_info": {
   "codemirror_mode": {
    "name": "ipython",
    "version": 3
   },
   "file_extension": ".py",
   "mimetype": "text/x-python",
   "name": "python",
   "nbconvert_exporter": "python",
   "pygments_lexer": "ipython3",
   "version": "3.9.6"
  }
 },
 "nbformat": 4,
 "nbformat_minor": 2
}
