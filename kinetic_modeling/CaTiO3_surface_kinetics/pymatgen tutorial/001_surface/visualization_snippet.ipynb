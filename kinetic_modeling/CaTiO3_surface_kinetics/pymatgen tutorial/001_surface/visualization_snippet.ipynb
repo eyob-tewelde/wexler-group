{
 "cells": [
  {
   "cell_type": "code",
   "execution_count": 2,
   "metadata": {},
   "outputs": [],
   "source": [
    "# Import MPRester to get crystal structures from the Materials Project\n",
    "# Import crystal_tool kit to visualize stuctures\n",
    "\n",
    "from pymatgen.ext.matproj import MPRester\n",
    "import crystal_toolkit"
   ]
  },
  {
   "cell_type": "code",
   "execution_count": 3,
   "metadata": {},
   "outputs": [
    {
     "data": {
      "text/html": [
       "\n",
       "        <iframe\n",
       "            width=\"100%\"\n",
       "            height=\"650\"\n",
       "            src=\"http://127.0.0.1:8884/\"\n",
       "            frameborder=\"0\"\n",
       "            allowfullscreen\n",
       "            \n",
       "        ></iframe>\n",
       "        "
      ],
      "text/plain": [
       "<IPython.lib.display.IFrame at 0x307bd3a60>"
      ]
     },
     "metadata": {},
     "output_type": "display_data"
    }
   ],
   "source": [
    "# Import CaTiO3 bulk structure from Materials Project\n",
    "\n",
    "mpr = MPRester(\"GVPDJzGk7QCVi80Gnm6QCYrKAlJiTtLf\")\n",
    "mp_id = \"mp-4019\"   # Material id for orthorombic CaTiO3\n",
    "cto_structure = mpr.get_structure_by_material_id(mp_id)\n",
    "cto_structure.add_oxidation_state_by_element({\"Ca\":2, \"Ti\":4, \"O\":-2})"
   ]
  },
  {
   "cell_type": "code",
   "execution_count": 6,
   "metadata": {},
   "outputs": [],
   "source": [
    "# Import SlabGenerator to generate slabs from the bulk structure\n",
    "\n",
    "from pymatgen.core.surface import SlabGenerator"
   ]
  },
  {
   "cell_type": "code",
   "execution_count": 5,
   "metadata": {},
   "outputs": [
    {
     "name": "stderr",
     "output_type": "stream",
     "text": [
      "/Users/eyob/Library/Python/3.9/lib/python/site-packages/spglib/spglib.py:115: DeprecationWarning:\n",
      "\n",
      "dict interface (SpglibDataset['wyckoffs']) is deprecated.Use attribute interface ({self.__class__.__name__}.{key}) instead\n",
      "\n",
      "/Users/eyob/Library/Python/3.9/lib/python/site-packages/spglib/spglib.py:115: DeprecationWarning:\n",
      "\n",
      "dict interface (SpglibDataset['equivalent_atoms']) is deprecated.Use attribute interface ({self.__class__.__name__}.{key}) instead\n",
      "\n"
     ]
    }
   ],
   "source": [
    "# 001 Miller Index\n",
    "slabgen_001 = SlabGenerator(cto_structure, (0,0,1), 10, 10) # Structure, Miller index, minimum slab size, minimum vacuum size\n",
    "slabs_001 = slabgen_001.get_slabs(symmetrize=True) # Generate surfaces with a Miller index of (0, 1, 1)\n",
    "\n",
    "# Retrieve the surfaces from the slabs\n",
    "term_1_001 = slabs_001[0]\n",
    "term_2_001 = slabs_001[1]\n",
    "term_3_001 = slabs_001[2]\n",
    "term_4_001 = slabs_001[3]"
   ]
  },
  {
   "cell_type": "code",
   "execution_count": 6,
   "metadata": {},
   "outputs": [
    {
     "data": {
      "text/html": [
       "\n",
       "        <iframe\n",
       "            width=\"100%\"\n",
       "            height=\"650\"\n",
       "            src=\"http://127.0.0.1:8884/\"\n",
       "            frameborder=\"0\"\n",
       "            allowfullscreen\n",
       "            \n",
       "        ></iframe>\n",
       "        "
      ],
      "text/plain": [
       "<IPython.lib.display.IFrame at 0x306933b80>"
      ]
     },
     "metadata": {},
     "output_type": "display_data"
    }
   ],
   "source": [
    "# CaO terminated\n",
    "term_1_001.make_supercell([2, 2, 1])    # Modify the size of the cell: 2 unit cells in x, 2 in y, 1 in z"
   ]
  },
  {
   "cell_type": "code",
   "execution_count": 8,
   "metadata": {},
   "outputs": [
    {
     "data": {
      "text/html": [
       "\n",
       "        <iframe\n",
       "            width=\"100%\"\n",
       "            height=\"650\"\n",
       "            src=\"http://127.0.0.1:8884/\"\n",
       "            frameborder=\"0\"\n",
       "            allowfullscreen\n",
       "            \n",
       "        ></iframe>\n",
       "        "
      ],
      "text/plain": [
       "<IPython.lib.display.IFrame at 0x308c85a30>"
      ]
     },
     "metadata": {},
     "output_type": "display_data"
    }
   ],
   "source": [
    "#TiO terminated\n",
    "term_2_001.make_supercell([2, 2, 1])"
   ]
  },
  {
   "cell_type": "code",
   "execution_count": 9,
   "metadata": {},
   "outputs": [
    {
     "data": {
      "text/html": [
       "\n",
       "        <iframe\n",
       "            width=\"100%\"\n",
       "            height=\"650\"\n",
       "            src=\"http://127.0.0.1:8884/\"\n",
       "            frameborder=\"0\"\n",
       "            allowfullscreen\n",
       "            \n",
       "        ></iframe>\n",
       "        "
      ],
      "text/plain": [
       "<IPython.lib.display.IFrame at 0x30a5c5cd0>"
      ]
     },
     "metadata": {},
     "output_type": "display_data"
    }
   ],
   "source": [
    "# CaO + 8O terminated\n",
    "term_3_001.make_supercell([2, 2, 1])"
   ]
  },
  {
   "cell_type": "code",
   "execution_count": 10,
   "metadata": {},
   "outputs": [
    {
     "data": {
      "text/html": [
       "\n",
       "        <iframe\n",
       "            width=\"100%\"\n",
       "            height=\"650\"\n",
       "            src=\"http://127.0.0.1:8884/\"\n",
       "            frameborder=\"0\"\n",
       "            allowfullscreen\n",
       "            \n",
       "        ></iframe>\n",
       "        "
      ],
      "text/plain": [
       "<IPython.lib.display.IFrame at 0x30a7f5790>"
      ]
     },
     "metadata": {},
     "output_type": "display_data"
    }
   ],
   "source": [
    "term_4_001.make_supercell([2, 2, 1])"
   ]
  },
  {
   "cell_type": "code",
   "execution_count": 32,
   "metadata": {},
   "outputs": [
    {
     "name": "stdout",
     "output_type": "stream",
     "text": [
      "7\n",
      "False\n",
      "0\n"
     ]
    }
   ],
   "source": [
    "# 010 Miller Index\n",
    "slabgen_010 = SlabGenerator(cto_structure, (0,1,0), 10, 10) # Structure, Miller index, minimum slab size, minimum vacuum size\n",
    "slabs_010 = slabgen_010.get_slabs(symmetrize=True) # Generate surfaces with a Miller index of (0, 1, 1)\n",
    "\n",
    "# Determine number of surfaces for 010 Miller index\n",
    "print(len(slabs_010))\n",
    "\n",
    "# Retrieve the surfaces from the slabs\n",
    "term_1_010 = slabs_010[0]\n",
    "term_2_010 = slabs_010[1]\n",
    "term_3_010 = slabs_010[2]\n",
    "term_4_010 = slabs_010[3]\n",
    "term_5_010 = slabs_010[4]\n",
    "term_6_010 = slabs_010[5]\n",
    "term_7_010 = slabs_010[6]\n",
    "\n",
    "# Check to see if any of the slabs are identical\n",
    "matches_010=[]\n",
    "for i in range(len(slabs_010)):\n",
    "    for j in range(len(slabs_010)):\n",
    "        if i != j: \n",
    "            matches_010.append(slabs_010[i].matches(slabs_010[j]))\n",
    "\n",
    "print(True in matches_010)\n",
    "\n",
    "polar_slabs_010 = []\n",
    "for i, slab in enumerate(slabs_010):\n",
    "    if slab.is_polar():\n",
    "        polar_slabs_010.append(slab)\n",
    "\n",
    "print(len(polar_slabs_010))     # 0 polar slabs"
   ]
  },
  {
   "cell_type": "code",
   "execution_count": 31,
   "metadata": {},
   "outputs": [
    {
     "name": "stdout",
     "output_type": "stream",
     "text": [
      "5\n",
      "False\n",
      "0\n"
     ]
    }
   ],
   "source": [
    "# 100 Miller Index\n",
    "slabgen_100 = SlabGenerator(cto_structure, (1,0,0), 10, 10) # Structure, Miller index, minimum slab size, minimum vacuum size\n",
    "slabs_100 = slabgen_100.get_slabs(symmetrize=True) # Generate surfaces with a Miller index of (0, 1, 1)\n",
    "\n",
    "# Determine number of surfaces for 100 Miller index\n",
    "print(len(slabs_100))\n",
    "\n",
    "# Retrieve the surfaces from the slabs\n",
    "term_1_100 = slabs_100[0]\n",
    "term_2_100 = slabs_100[1]\n",
    "term_3_100 = slabs_100[2]\n",
    "term_4_100 = slabs_100[3]\n",
    "term_5_100 = slabs_100[4]\n",
    "\n",
    "# Check to see if any of the slabs are identical\n",
    "matches_100=[]\n",
    "for i in range(len(slabs_100)):\n",
    "    for j in range(len(slabs_100)):\n",
    "        if i != j: \n",
    "            matches_100.append(slabs_100[i].matches(slabs_100[j]))\n",
    "\n",
    "print(True in matches_100)\n",
    "\n",
    "polar_slabs_100 = []\n",
    "for i, slab in enumerate(slabs_100):\n",
    "    if slab.is_polar():\n",
    "        polar_slabs_100.append(slab)\n",
    "\n",
    "print(len(polar_slabs_100))     # 0 polar slabs"
   ]
  },
  {
   "cell_type": "code",
   "execution_count": 30,
   "metadata": {},
   "outputs": [
    {
     "name": "stdout",
     "output_type": "stream",
     "text": [
      "6\n",
      "False\n",
      "0\n"
     ]
    }
   ],
   "source": [
    "# 110 Miller Index\n",
    "slabgen_110 = SlabGenerator(cto_structure, (1,1,0), 10, 10) # Structure, Miller index, minimum slab size, minimum vacuum size\n",
    "slabs_110 = slabgen_110.get_slabs(symmetrize=True) # Generate surfaces with a Miller index of (0, 1, 1)\n",
    "\n",
    "# Determine number of surfaces for 100 Miller index\n",
    "print(len(slabs_110))\n",
    "\n",
    "# Retrieve the surfaces from the slabs\n",
    "term_1_110 = slabs_110[0]\n",
    "term_2_110 = slabs_110[1]\n",
    "term_3_110 = slabs_110[2]\n",
    "term_4_110 = slabs_110[3]\n",
    "term_5_110 = slabs_110[4]\n",
    "term_6_110 = slabs_110[5]\n",
    "\n",
    "# Check to see if any of the slabs are identical\n",
    "matches_110=[]\n",
    "for i in range(len(slabs_110)):\n",
    "    for j in range(len(slabs_110)):\n",
    "        if i != j: \n",
    "            matches_110.append(slabs_110[i].matches(slabs_110[j]))\n",
    "\n",
    "print(True in matches_110)\n",
    "\n",
    "polar_slabs_110 = []\n",
    "for i, slab in enumerate(slabs_110):\n",
    "    if slab.is_polar():\n",
    "        polar_slabs_110.append(slab)\n",
    "\n",
    "print(len(polar_slabs_110))     # 0 polar slabs"
   ]
  },
  {
   "cell_type": "code",
   "execution_count": 29,
   "metadata": {},
   "outputs": [
    {
     "name": "stdout",
     "output_type": "stream",
     "text": [
      "8\n",
      "True\n",
      "[(2, 3), (3, 2), (4, 5), (5, 4)]\n",
      "0\n"
     ]
    }
   ],
   "source": [
    "# 101 Miller Index\n",
    "slabgen_101 = SlabGenerator(cto_structure, (1,0,1), 10, 10) # Structure, Miller index, minimum slab size, minimum vacuum size\n",
    "slabs_101 = slabgen_101.get_slabs(symmetrize=True) # Generate surfaces with a Miller index of (0, 1, 1)\n",
    "\n",
    "\n",
    "# Determine number of surfaces for 101 Miller index\n",
    "print(len(slabs_101))\n",
    "\n",
    "# Retrieve the surfaces from the slabs\n",
    "term_1_101 = slabs_101[0]\n",
    "term_2_101 = slabs_101[1]   # term_2_101 and term_3_101 are identical\n",
    "term_3_101 = slabs_101[2]\n",
    "term_4_101 = slabs_101[3]   # term_4_101 and term_5_101 are identical\n",
    "term_5_101 = slabs_101[4]\n",
    "term_6_101 = slabs_101[5]\n",
    "term_7_101 = slabs_101[6]\n",
    "term_8_101 = slabs_101[7]\n",
    "\n",
    "# Check to see if any of the slabs are identical\n",
    "matches_101=[]\n",
    "match_identities=[]\n",
    "for i in range(len(slabs_101)):\n",
    "    for j in range(len(slabs_101)):\n",
    "        if i != j:\n",
    "            val = slabs_101[i].matches(slabs_101[j])\n",
    "            if val:\n",
    "                matches_101.append(slabs_101[i].matches(slabs_101[j]))\n",
    "                match_identities.append((i, j))\n",
    "\n",
    "print(True in matches_101)\n",
    "print(match_identities)\n",
    "\n",
    "polar_slabs_101 = []\n",
    "for i, slab in enumerate(slabs_101):\n",
    "    if slab.is_polar():\n",
    "        polar_slabs_101.append(slab)\n",
    "\n",
    "print(len(polar_slabs_101))     # 0 polar slabs\n"
   ]
  },
  {
   "cell_type": "code",
   "execution_count": 28,
   "metadata": {},
   "outputs": [
    {
     "name": "stdout",
     "output_type": "stream",
     "text": [
      "6\n",
      "False\n",
      "0\n"
     ]
    }
   ],
   "source": [
    "# 011 Miller Index\n",
    "slabgen_011 = SlabGenerator(cto_structure, (0,1,1), 10, 10) # Structure, Miller index, minimum slab size, minimum vacuum size\n",
    "slabs_011 = slabgen_011.get_slabs(symmetrize=True) # Generate surfaces with a Miller index of (0, 1, 1)\n",
    "\n",
    "# Determine number of surfaces for 011 Miller index\n",
    "print(len(slabs_011))\n",
    "\n",
    "# Retrieve the surfaces from the slabs\n",
    "term_1_011 = slabs_011[0]\n",
    "term_2_011 = slabs_011[1]\n",
    "term_3_011 = slabs_011[2]\n",
    "term_4_011 = slabs_011[3]\n",
    "term_5_011 = slabs_011[4]\n",
    "term_6_011 = slabs_011[5]\n",
    "\n",
    "# Check to see if any of the slabs are identical\n",
    "matches_011 = []\n",
    "for i in range(len(slabs_011)):\n",
    "    for j in range(len(slabs_011)):\n",
    "        if i != j: \n",
    "            matches_101.append(slabs_011[i].matches(slabs_011[j]))\n",
    "\n",
    "print(True in matches_011)\n",
    "\n",
    "polar_slabs_011 = []\n",
    "for i, slab in enumerate(slabs_011):\n",
    "    if slab.is_polar():\n",
    "        polar_slabs_011.append(slab)\n",
    "\n",
    "print(len(polar_slabs_011))     # 0 polar slabs"
   ]
  },
  {
   "cell_type": "code",
   "execution_count": 27,
   "metadata": {},
   "outputs": [
    {
     "name": "stdout",
     "output_type": "stream",
     "text": [
      "14\n",
      "False\n",
      "0\n"
     ]
    }
   ],
   "source": [
    "# 111 Miller Index\n",
    "slabgen_111 = SlabGenerator(cto_structure, (1,1,1), 10, 10) # Structure, Miller index, minimum slab size, minimum vacuum size\n",
    "slabs_111 = slabgen_111.get_slabs(symmetrize=True) # Generate surfaces with a Miller index of (0, 1, 1)\n",
    "\n",
    "# Determine number of surfaces for 111 Miller index\n",
    "print(len(slabs_111))\n",
    "\n",
    "# Retrieve the surfaces from the slabs\n",
    "term_1_111 = slabs_111[0]\n",
    "term_2_111 = slabs_111[1]\n",
    "term_3_111 = slabs_111[2]\n",
    "term_4_111 = slabs_111[3]\n",
    "term_5_111 = slabs_111[4]\n",
    "term_6_111 = slabs_111[5]\n",
    "term_7_111 = slabs_111[6]\n",
    "term_8_111 = slabs_111[7]\n",
    "term_9_111 = slabs_111[8]\n",
    "term_10_111 = slabs_111[9]\n",
    "term_11_111 = slabs_111[10]\n",
    "term_12_111 = slabs_111[11]\n",
    "term_13_111 = slabs_111[12]\n",
    "term_14_111 = slabs_111[13]\n",
    "\n",
    "matches_111 = []\n",
    "for i in range(len(slabs_111)):\n",
    "    for j in range(len(slabs_111)):\n",
    "        if i != j: \n",
    "            matches_101.append(slabs_111[i].matches(slabs_111[j]))\n",
    "\n",
    "print(True in matches_111)\n",
    "\n",
    "polar_slabs_111 = []\n",
    "for i, slab in enumerate(slabs_111):\n",
    "    if slab.is_polar():\n",
    "        polar_slabs_111.append(slab)\n",
    "\n",
    "print(len(polar_slabs_111))     # 0 polar slabs\n",
    "\n"
   ]
  }
 ],
 "metadata": {
  "kernelspec": {
   "display_name": "Python 3",
   "language": "python",
   "name": "python3"
  },
  "language_info": {
   "codemirror_mode": {
    "name": "ipython",
    "version": 3
   },
   "file_extension": ".py",
   "mimetype": "text/x-python",
   "name": "python",
   "nbconvert_exporter": "python",
   "pygments_lexer": "ipython3",
   "version": "3.9.6"
  }
 },
 "nbformat": 4,
 "nbformat_minor": 2
}
