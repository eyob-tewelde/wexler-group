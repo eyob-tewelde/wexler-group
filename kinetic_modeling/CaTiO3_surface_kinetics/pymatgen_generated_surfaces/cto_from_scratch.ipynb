{
 "cells": [
  {
   "cell_type": "code",
   "execution_count": 7,
   "metadata": {},
   "outputs": [],
   "source": [
    "from pymatgen.core import Lattice, Structure\n",
    "import crystal_toolkit"
   ]
  },
  {
   "cell_type": "code",
   "execution_count": 8,
   "metadata": {},
   "outputs": [
    {
     "name": "stdout",
     "output_type": "stream",
     "text": [
      "Full Formula (Ca1 Ti1 O3)\n",
      "Reduced Formula: CaTiO3\n",
      "abc   :   3.805000   3.849000   3.820000\n",
      "angles:  90.000000  90.000000  90.000000\n",
      "pbc   :       True       True       True\n",
      "Sites (5)\n",
      "  #  SP      a    b    c\n",
      "---  ----  ---  ---  ---\n",
      "  0  Ca    0    0    0\n",
      "  1  Ti    0.5  0.5  0.5\n",
      "  2  O     0.5  0.5  0\n",
      "  3  O     0    0.5  0.5\n",
      "  4  O     0.5  0    0.5\n"
     ]
    },
    {
     "name": "stderr",
     "output_type": "stream",
     "text": [
      "c:\\Users\\ryana\\AppData\\Local\\Programs\\Python\\Python312\\Lib\\site-packages\\crystal_toolkit\\core\\jupyter.py:57: UserWarning:\n",
      "\n",
      "Port {port} not available, using {free_port} instead.\n",
      "\n"
     ]
    },
    {
     "data": {
      "text/html": [
       "\n",
       "        <iframe\n",
       "            width=\"100%\"\n",
       "            height=\"650\"\n",
       "            src=\"http://127.0.0.1:54186/\"\n",
       "            frameborder=\"0\"\n",
       "            allowfullscreen\n",
       "            \n",
       "        ></iframe>\n",
       "        "
      ],
      "text/plain": [
       "<IPython.lib.display.IFrame at 0x1c79bae9370>"
      ]
     },
     "metadata": {},
     "output_type": "display_data"
    },
    {
     "name": "stderr",
     "output_type": "stream",
     "text": [
      "c:\\Users\\ryana\\AppData\\Local\\Programs\\Python\\Python312\\Lib\\site-packages\\pymatgen\\analysis\\local_env.py:4019: UserWarning:\n",
      "\n",
      "No oxidation states specified on sites! For better results, set the site oxidation states in the structure.\n",
      "\n",
      "c:\\Users\\ryana\\AppData\\Local\\Programs\\Python\\Python312\\Lib\\site-packages\\pymatgen\\analysis\\local_env.py:4021: UserWarning:\n",
      "\n",
      "No oxidation states specified on sites! For better results, set the site oxidation states in the structure.\n",
      "\n",
      "c:\\Users\\ryana\\AppData\\Local\\Programs\\Python\\Python312\\Lib\\site-packages\\pymatgen\\analysis\\local_env.py:3933: UserWarning:\n",
      "\n",
      "CrystalNN: cannot locate an appropriate radius, covalent or atomic radii will be used, this can lead to non-optimal results.\n",
      "\n"
     ]
    }
   ],
   "source": [
    "#Define the lattice cell lengths and angles (units in Angstroms)\n",
    "a, b, c, = 3.805, 3.849, 3.820\n",
    "\n",
    "alpha, beta, gamma, = 90, 90, 90\n",
    "\n",
    "lattice = Lattice.from_parameters(a, b, c, alpha, beta, gamma)\n",
    "\n",
    "# Define the basis (atomic positions and species)\n",
    "\n",
    "species = [\"Ca\", \"Ti\", \"O\", \"O\", \"O\"]\n",
    "coords = [\n",
    "    [0, 0, 0],  #Ca\n",
    "    [0.5, 0.5, 0.5], #Ti\n",
    "    [0.5, 0.5, 0], #O1\n",
    "    [0, 0.5, 0.5], #O2\n",
    "    [0.5, 0, 0.5]   #O3\n",
    "]\n",
    "\n",
    "# Create the structure\n",
    "\n",
    "cto_structure = Structure(lattice, species, coords)\n",
    "\n",
    "print(cto_structure)\n",
    "cto_structure"
   ]
  },
  {
   "cell_type": "code",
   "execution_count": 10,
   "metadata": {},
   "outputs": [
    {
     "data": {
      "text/html": [
       "\n",
       "        <iframe\n",
       "            width=\"100%\"\n",
       "            height=\"650\"\n",
       "            src=\"http://127.0.0.1:54243/\"\n",
       "            frameborder=\"0\"\n",
       "            allowfullscreen\n",
       "            \n",
       "        ></iframe>\n",
       "        "
      ],
      "text/plain": [
       "<IPython.lib.display.IFrame at 0x1c79bae8ec0>"
      ]
     },
     "metadata": {},
     "output_type": "display_data"
    }
   ],
   "source": [
    "super_cto = cto_structure.copy().make_supercell([1, 1, 3])\n",
    "super_cto"
   ]
  },
  {
   "cell_type": "code",
   "execution_count": null,
   "metadata": {},
   "outputs": [],
   "source": []
  }
 ],
 "metadata": {
  "kernelspec": {
   "display_name": "Python 3",
   "language": "python",
   "name": "python3"
  },
  "language_info": {
   "codemirror_mode": {
    "name": "ipython",
    "version": 3
   },
   "file_extension": ".py",
   "mimetype": "text/x-python",
   "name": "python",
   "nbconvert_exporter": "python",
   "pygments_lexer": "ipython3",
   "version": "3.12.5"
  }
 },
 "nbformat": 4,
 "nbformat_minor": 2
}
