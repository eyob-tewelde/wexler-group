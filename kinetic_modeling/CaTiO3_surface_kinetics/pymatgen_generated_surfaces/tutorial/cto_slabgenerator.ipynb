{
 "cells": [
  {
   "cell_type": "code",
   "execution_count": 65,
   "metadata": {},
   "outputs": [],
   "source": [
    "from pymatgen.ext.matproj import MPRester\n",
    "import crystal_toolkit"
   ]
  },
  {
   "cell_type": "code",
   "execution_count": 66,
   "metadata": {},
   "outputs": [
    {
     "data": {
      "text/html": [
       "\n",
       "        <iframe\n",
       "            width=\"100%\"\n",
       "            height=\"650\"\n",
       "            src=\"http://127.0.0.1:8884/\"\n",
       "            frameborder=\"0\"\n",
       "            allowfullscreen\n",
       "            \n",
       "        ></iframe>\n",
       "        "
      ],
      "text/plain": [
       "<IPython.lib.display.IFrame at 0x32ed529a0>"
      ]
     },
     "metadata": {},
     "output_type": "display_data"
    }
   ],
   "source": [
    "# Import CaTiO3 bulk structure from Materials Project\n",
    "\n",
    "\n",
    "mpr = MPRester(\"GVPDJzGk7QCVi80Gnm6QCYrKAlJiTtLf\")\n",
    "mp_id = \"mp-4019\"\n",
    "cto_structure = mpr.get_structure_by_material_id(mp_id)\n",
    "# print(cto_structure)\n",
    "cto_structure.add_oxidation_state_by_element({\"Ca\":2, \"Ti\":4, \"O\":-2})"
   ]
  },
  {
   "cell_type": "code",
   "execution_count": 67,
   "metadata": {},
   "outputs": [],
   "source": [
    "# Import slab generator, which can create slabs from the bulk structure\n",
    "from pymatgen.core.surface import SlabGenerator"
   ]
  },
  {
   "cell_type": "code",
   "execution_count": 68,
   "metadata": {},
   "outputs": [],
   "source": [
    "# Input the structure, miller index of interest, size of slab, and size of vacuum\n",
    "# slabgen = SlabGenerator(cto_structure, (0,0,1), 20, 10)"
   ]
  },
  {
   "cell_type": "code",
   "execution_count": 69,
   "metadata": {},
   "outputs": [],
   "source": [
    "# slabs = slabgen.get_slabs()"
   ]
  },
  {
   "cell_type": "code",
   "execution_count": 70,
   "metadata": {},
   "outputs": [],
   "source": [
    "# slabs[0]"
   ]
  },
  {
   "cell_type": "code",
   "execution_count": 71,
   "metadata": {},
   "outputs": [],
   "source": [
    "# slabs[1]"
   ]
  },
  {
   "cell_type": "code",
   "execution_count": 72,
   "metadata": {},
   "outputs": [],
   "source": [
    "# print(slabs[0].is_polar(), slabs[0].is_symmetric())"
   ]
  },
  {
   "cell_type": "code",
   "execution_count": 73,
   "metadata": {},
   "outputs": [],
   "source": [
    "# print(slabs[1].is_polar(), slabs[1].is_symmetric())"
   ]
  },
  {
   "cell_type": "code",
   "execution_count": 74,
   "metadata": {},
   "outputs": [],
   "source": [
    "# new_slabs_0 = []\n",
    "# new_slabs_1 = []\n",
    "\n",
    "# for i in range(1, 50):\n",
    "#     slabgen = SlabGenerator(cto_structure, (0,0,1), i, 10, center_slab=True)\n",
    "#     new_slabs = slabgen.get_slabs(symmetrize=True)\n",
    "#     new_slab_0 = new_slabs[0]\n",
    "#     new_slab_1 = new_slabs[1]\n",
    "#     # if new_slab_0.is_polar() and new_slab_0.is_symmetric():\n",
    "#     #     new_slabs_0.append((i, new_slab_0))\n",
    "#     # if new_slab_1.is_polar() and new_slab_1.is_symmetric():\n",
    "#     #     new_slabs_1.append((i, new_slab_1))\n",
    "#     new_slabs_0.append(new_slab_0)\n",
    "#     new_slabs_1.append(new_slab_1)"
   ]
  },
  {
   "cell_type": "code",
   "execution_count": 75,
   "metadata": {},
   "outputs": [],
   "source": [
    "slabgen = SlabGenerator(cto_structure, (0,0,1), 10, 10)\n",
    "slabs = slabgen.get_slabs(symmetrize=True)\n"
   ]
  },
  {
   "cell_type": "code",
   "execution_count": 86,
   "metadata": {},
   "outputs": [
    {
     "name": "stdout",
     "output_type": "stream",
     "text": [
      "True\n",
      "True\n",
      "True\n",
      "True\n"
     ]
    }
   ],
   "source": [
    "for slab in slabs:\n",
    "    print(slab.is_symmetric())\n",
    "\n",
    "term_1_001 = slabs[0]\n",
    "term_2_001 = slabs[1]\n",
    "term_3_001 = slabs[2]\n",
    "term_4_001 = slabs[3]"
   ]
  },
  {
   "cell_type": "code",
   "execution_count": 89,
   "metadata": {},
   "outputs": [
    {
     "data": {
      "text/html": [
       "\n",
       "        <iframe\n",
       "            width=\"100%\"\n",
       "            height=\"650\"\n",
       "            src=\"http://127.0.0.1:8884/\"\n",
       "            frameborder=\"0\"\n",
       "            allowfullscreen\n",
       "            \n",
       "        ></iframe>\n",
       "        "
      ],
      "text/plain": [
       "<IPython.lib.display.IFrame at 0x33881d3a0>"
      ]
     },
     "metadata": {},
     "output_type": "display_data"
    }
   ],
   "source": [
    "term_1_001.make_supercell([2, 2, 1])\n",
    "# TiO2 terminated"
   ]
  },
  {
   "cell_type": "code",
   "execution_count": 90,
   "metadata": {},
   "outputs": [
    {
     "data": {
      "text/html": [
       "\n",
       "        <iframe\n",
       "            width=\"100%\"\n",
       "            height=\"650\"\n",
       "            src=\"http://127.0.0.1:8884/\"\n",
       "            frameborder=\"0\"\n",
       "            allowfullscreen\n",
       "            \n",
       "        ></iframe>\n",
       "        "
      ],
      "text/plain": [
       "<IPython.lib.display.IFrame at 0x32e763a00>"
      ]
     },
     "metadata": {},
     "output_type": "display_data"
    }
   ],
   "source": [
    "term_2_001.make_supercell([2, 2, 1])"
   ]
  },
  {
   "cell_type": "code",
   "execution_count": 78,
   "metadata": {},
   "outputs": [],
   "source": [
    "from pymatgen.analysis.adsorption import plot_slab\n",
    "from matplotlib import pyplot as plt\n",
    "%matplotlib inline\n",
    "\n",
    "# Makes the plot inline with the code"
   ]
  },
  {
   "cell_type": "code",
   "execution_count": 79,
   "metadata": {},
   "outputs": [],
   "source": [
    "# fig = plt.figure()\n",
    "# for i, slab in enumerate(slabs):\n",
    "#     ax = fig.add_subplot(1, 2, i+1)\n",
    "#     plot_slab(slab, ax, adsorption_sites=False)\n",
    "#     ax.set_title(i+1)\n",
    "#     ax.set_xticks([])\n",
    "#     ax.set_yticks([])\n",
    "\n",
    "# plt.show()"
   ]
  },
  {
   "cell_type": "code",
   "execution_count": 80,
   "metadata": {},
   "outputs": [],
   "source": [
    "# slabs[0].to(fmt=\"cif\", filename=\"cto_001_1.cif\")\n",
    "# slabs[1].to(fmt=\"cif\", filename=\"cto_001_2.cif\")"
   ]
  },
  {
   "cell_type": "code",
   "execution_count": 81,
   "metadata": {},
   "outputs": [],
   "source": [
    "# for n, slab in enumerate(slabs):\n",
    "#     print(n, slab.is_polar(), slab.is_symmetric())"
   ]
  },
  {
   "cell_type": "code",
   "execution_count": 82,
   "metadata": {},
   "outputs": [],
   "source": [
    "# from pymatgen.core.surface import generate_all_slabs"
   ]
  },
  {
   "cell_type": "code",
   "execution_count": 83,
   "metadata": {},
   "outputs": [],
   "source": [
    "# all_slabs = generate_all_slabs(cto_structure, 2, 10, 10)"
   ]
  },
  {
   "cell_type": "code",
   "execution_count": 84,
   "metadata": {},
   "outputs": [],
   "source": [
    "# valid_slabs = []\n",
    "# for slab in all_slabs:\n",
    "#     if not slab.is_polar() and slab.is_symmetric():\n",
    "#         valid_slabs.append(slab)\n",
    "\n",
    "# print(len(all_slabs), len(valid_slabs))"
   ]
  }
 ],
 "metadata": {
  "kernelspec": {
   "display_name": "Python 3",
   "language": "python",
   "name": "python3"
  },
  "language_info": {
   "codemirror_mode": {
    "name": "ipython",
    "version": 3
   },
   "file_extension": ".py",
   "mimetype": "text/x-python",
   "name": "python",
   "nbconvert_exporter": "python",
   "pygments_lexer": "ipython3",
   "version": "3.9.6"
  }
 },
 "nbformat": 4,
 "nbformat_minor": 2
}
